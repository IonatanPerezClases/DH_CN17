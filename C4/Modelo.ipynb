{
 "cells": [
  {
   "cell_type": "markdown",
   "metadata": {},
   "source": [
    "# Estadística descriptiva\n",
    "\n",
    "## ¿Qué vamos a ver hoy?\n",
    "\n",
    "### Estadística descriptiva\n",
    "\n",
    "Son herramientas que sirven para describir un conjunto de valores mediante algunas características del conjunto.\n",
    "\n",
    "Vamos a ver que es y como calcular:\n",
    "\n",
    "Maneras de buscar un valor representativo\n",
    "\n",
    "- Media\n",
    "- Mediana\n",
    "- Moda\n",
    "\n",
    "Maneras de cuantificar cuanto varian los valores\n",
    "\n",
    "- Rango\n",
    "- Varianza\n",
    "- Desviacion estandar\n",
    "- Coeficiente de variacion\n",
    "\n",
    "Maneras de ver si diferentes aspectos o variables se vinculan entre si.\n",
    "\n",
    "- Covarianza\n",
    "- Correlacion\n",
    "\n",
    "No vamos a ver hoy estaditica inferencial, es decir tratar de predecir que puede pasar o que probabilidad hay que de que sucedan cosas a partir de los datos conocidos.\n",
    "\n",
    "### Funciones de distribucion\n",
    "\n",
    "Vamos a ver la funcion de distribucion normal y a modo de repaso como generar datos con distibuciones nornmales\n",
    "\n",
    "### Herramientas basicas de visualización\n",
    "\n",
    "No es el objetivo de la clase de hoy (hay mas de una clase que vamos a dedicar exclusivamente a eso), pero para ayudarnos a visualizar la infomacion vamos a ver como generar:\n",
    "\n",
    "- Graficos de lineas\n",
    "- Graficos de puntos\n",
    "- Histogramas\n",
    "\n",
    "## Idea de la clase\n",
    "\n",
    "- Arranacamos con una pequeña encuesta que vamos a usar de ejemplo durante la clase.\n",
    "- Vamos repasando con la presentacion las ideas y vamos probando implementar las ideas en los datos de la encuesta.\n",
    "- Despues del ejemplo en conjunto queda el hands-on para que practiquen en clase (esperemos llegar)."
   ]
  },
  {
   "cell_type": "markdown",
   "metadata": {},
   "source": [
    "# La encuesta....\n",
    "\n",
    "https://forms.gle/JgpooKWc2L9vg5pn9"
   ]
  },
  {
   "cell_type": "markdown",
   "metadata": {},
   "source": [
    "# Repaso de como leer un archivo csv\n"
   ]
  },
  {
   "cell_type": "code",
   "execution_count": 1,
   "metadata": {},
   "outputs": [],
   "source": [
    "import numpy as np"
   ]
  },
  {
   "cell_type": "code",
   "execution_count": 2,
   "metadata": {},
   "outputs": [
    {
     "name": "stdout",
     "output_type": "stream",
     "text": [
      "[178 176 190 155]\n",
      "[ 95  76 120  56]\n"
     ]
    }
   ],
   "source": [
    "filename = \"Formulario C4.csv\"\n",
    "data_cruda = np.genfromtxt(filename, delimiter=\",\", dtype=str) # Notar que si no ponemos el separador correcto tira error. Y si no ponemos dtype lee todo como vacio.\n",
    "data_cruda\n",
    "\n",
    "alturas = data_cruda[1:,1].astype(int) # Seleccionamos la columna 1 desde la fila uno hasta el final\n",
    "print (alturas)\n",
    "\n",
    "pesos = data_cruda[1:,2].astype(int) # Seleccionamos la columna 1 desde la fila uno hasta el final\n",
    "print (pesos)"
   ]
  },
  {
   "cell_type": "markdown",
   "metadata": {},
   "source": [
    "# Ver primer parte de la presentación"
   ]
  },
  {
   "cell_type": "code",
   "execution_count": 3,
   "metadata": {},
   "outputs": [
    {
     "name": "stdout",
     "output_type": "stream",
     "text": [
      "El valor medio para las alturas del curso es: 174.75\n",
      "El valor medio para los pesos del curso es: 86.75\n",
      "La mediana para las alturas del curso es: 177.0\n",
      "La mediana para los pesos del curso es: 85.5\n",
      "La moda para las alturas del curso es: ModeResult(mode=array([155]), count=array([1]))\n"
     ]
    }
   ],
   "source": [
    "# Calculamos la media, la mediana y la moda para las columnas\n",
    "\n",
    "print (f'El valor medio para las alturas del curso es: {np.mean(alturas)}')\n",
    "print (f'El valor medio para los pesos del curso es: {np.mean(pesos)}')\n",
    "\n",
    "print (f'La mediana para las alturas del curso es: {np.median(alturas)}')\n",
    "print (f'La mediana para los pesos del curso es: {np.median(pesos)}')\n",
    "\n",
    "# numpy no tiene un metodo para calcular la moda!!!!!\n",
    "\n",
    "# Pero otra libreria como scipy si\n",
    "\n",
    "from scipy import stats # No funciona import scipy y usar scipy.stats\n",
    "\n",
    "print (f'La moda para las alturas del curso es: {stats.mode(alturas)}') # Vemos que no tiene mucho sentido!"
   ]
  },
  {
   "cell_type": "markdown",
   "metadata": {},
   "source": [
    "# Como visualizar esto... (vamos a usar lo básico de Seaborn)"
   ]
  },
  {
   "cell_type": "code",
   "execution_count": 4,
   "metadata": {},
   "outputs": [
    {
     "data": {
      "text/plain": [
       "<AxesSubplot:>"
      ]
     },
     "execution_count": 4,
     "metadata": {},
     "output_type": "execute_result"
    },
    {
     "data": {
      "image/png": "[encoded data removed]",
      "text/plain": [
       "<Figure size 432x288 with 1 Axes>"
      ]
     },
     "metadata": {
      "needs_background": "light"
     },
     "output_type": "display_data"
    }
   ],
   "source": [
    "import seaborn as sns\n",
    "\n",
    "# Hacer un grafico tipo \"comun\"\n",
    "\n",
    "sns.lineplot(data = alturas)\n",
    "sns.lineplot(data = pesos)\n"
   ]
  },
  {
   "cell_type": "code",
   "execution_count": 5,
   "metadata": {},
   "outputs": [
    {
     "data": {
      "text/plain": [
       "<AxesSubplot:>"
      ]
     },
     "execution_count": 5,
     "metadata": {},
     "output_type": "execute_result"
    },
    {
     "data": {
      "image/png": "[encoded data removed]",
      "text/plain": [
       "<Figure size 432x288 with 1 Axes>"
      ]
     },
     "metadata": {
      "needs_background": "light"
     },
     "output_type": "display_data"
    }
   ],
   "source": [
    "sns.scatterplot(x = alturas, y = pesos)"
   ]
  },
  {
   "cell_type": "code",
   "execution_count": 6,
   "metadata": {},
   "outputs": [
    {
     "data": {
      "text/plain": [
       "<AxesSubplot:ylabel='Count'>"
      ]
     },
     "execution_count": 6,
     "metadata": {},
     "output_type": "execute_result"
    },
    {
     "data": {
      "image/png": "[encoded data removed]",
      "text/plain": [
       "<Figure size 432x288 with 1 Axes>"
      ]
     },
     "metadata": {
      "needs_background": "light"
     },
     "output_type": "display_data"
    }
   ],
   "source": [
    "sns.histplot(alturas)"
   ]
  },
  {
   "cell_type": "markdown",
   "metadata": {},
   "source": [
    "# Ideas de Dispersión"
   ]
  },
  {
   "cell_type": "code",
   "execution_count": 7,
   "metadata": {},
   "outputs": [
    {
     "name": "stdout",
     "output_type": "stream",
     "text": [
      "El rango de alturas va de: 190cm a 155cm, es decir que la alturas cubren un rango de 35cm.\n",
      "[181.   170.75]\n",
      "El 50% de las alturas mas comunes estan entre: 170.75cm y 181.0cm.\n"
     ]
    }
   ],
   "source": [
    "print (f'El rango de alturas va de: {np.max(alturas)}cm a {np.min(alturas)}cm, es decir que la alturas cubren un rango de {np.max(alturas)-np.min(alturas)}cm.' )\n",
    "\n",
    "# Ahora queremos saber donde esta el 50% de las alturas mas comunes\n",
    "# Numpy tiene una funcion que separa en partes ordenando\n",
    "\n",
    "print (np.percentile(alturas, [75,25]))\n",
    "\n",
    "print (f'El 50% de las alturas mas comunes estan entre: {np.percentile(alturas, [75 ,25])[1]}cm y {np.percentile(alturas, [75 ,25])[0]}cm.')"
   ]
  },
  {
   "cell_type": "code",
   "execution_count": 8,
   "metadata": {},
   "outputs": [
    {
     "name": "stdout",
     "output_type": "stream",
     "text": [
      "La viarianza en las alturas es de: 158.6875cm^2\n",
      "La desviacion estandar es de: 12.597122687344122cm\n"
     ]
    }
   ],
   "source": [
    "# Como pedirle a numpy que nos calcule la varianza\n",
    "\n",
    "print (f'La viarianza en las alturas es de: {np.var(alturas)}cm^2')\n",
    "print (f'La desviacion estandar es de: {np.std(alturas)}cm')"
   ]
  },
  {
   "cell_type": "code",
   "execution_count": 9,
   "metadata": {},
   "outputs": [
    {
     "name": "stdout",
     "output_type": "stream",
     "text": [
      "[178 176]\n",
      "2\n",
      "El porcenaje de valores que caen dentro del rango indicado es: 50.0%\n"
     ]
    }
   ],
   "source": [
    "# Vamos a calcular que porcentaje de los valores caen dentro de una desviacion estandar de la media\n",
    "\n",
    "n = 1\n",
    "sd = np.std(alturas)\n",
    "mean = np.mean(alturas)\n",
    "\n",
    "mascara = (mean - n * sd < alturas) & (alturas < mean + n * sd)\n",
    "print (alturas[mascara])\n",
    "print (mascara.sum())\n",
    "print (f'El porcenaje de valores que caen dentro del rango indicado es: {mascara.sum()/len(mascara)*100}%')\n"
   ]
  },
  {
   "cell_type": "code",
   "execution_count": 10,
   "metadata": {},
   "outputs": [
    {
     "name": "stdout",
     "output_type": "stream",
     "text": [
      "La desviacion estandar de las alturas es 12.597122687344122cm, y su valor medio es 174.75cm. Su ceoficiente de variación es 0.07208653898337122\n",
      "La desviacion estandar de los pesos es 23.636571240347024Kg, y su valor medio es 86.75Kg. Su ceoficiente de variación es 0.2724676800040003\n"
     ]
    }
   ],
   "source": [
    "# Comparando variabilidades entre dos variables\n",
    "\n",
    "print (f'La desviacion estandar de las alturas es {np.std(alturas)}cm, y su valor medio es {np.mean(alturas)}cm. Su ceoficiente de variación es {np.std(alturas)/np.mean(alturas)}')\n",
    "print (f'La desviacion estandar de los pesos es {np.std(pesos)}Kg, y su valor medio es {np.mean(pesos)}Kg. Su ceoficiente de variación es {np.std(pesos)/np.mean(pesos)}')"
   ]
  },
  {
   "cell_type": "markdown",
   "metadata": {},
   "source": [
    "# Covarianza y correlación"
   ]
  },
  {
   "cell_type": "code",
   "execution_count": 11,
   "metadata": {},
   "outputs": [
    {
     "name": "stdout",
     "output_type": "stream",
     "text": [
      "[-3.  3. -3.  3.]\n",
      "[ 8.  5.  3. 10.]\n"
     ]
    }
   ],
   "source": [
    "# Repasemos los graficos pero ahora vamos a agregar las columnas genero y nombre\n",
    "\n",
    "sexo = data_cruda[1:,3]\n",
    "sexo[sexo==\"Varon\"] = \"-3\"\n",
    "sexo[sexo==\"Mujer\"] = \"3\"\n",
    "sexo = sexo.astype(float)\n",
    "print (sexo)\n",
    "\n",
    "letras = data_cruda[1:,4].astype(float) # Seleccionamos la columna 1 desde la fila uno hasta el final\n",
    "print (letras)\n"
   ]
  },
  {
   "cell_type": "markdown",
   "metadata": {},
   "source": [
    "### Comparamos alturas con pesos"
   ]
  },
  {
   "cell_type": "code",
   "execution_count": 12,
   "metadata": {},
   "outputs": [
    {
     "data": {
      "text/plain": [
       "<AxesSubplot:>"
      ]
     },
     "execution_count": 12,
     "metadata": {},
     "output_type": "execute_result"
    },
    {
     "data": {
      "image/png": "[encoded data removed]",
      "text/plain": [
       "<Figure size 432x288 with 1 Axes>"
      ]
     },
     "metadata": {
      "needs_background": "light"
     },
     "output_type": "display_data"
    }
   ],
   "source": [
    "sns.scatterplot(x = alturas, y = pesos)"
   ]
  },
  {
   "cell_type": "markdown",
   "metadata": {},
   "source": [
    "### Comparamos alturas con letras"
   ]
  },
  {
   "cell_type": "code",
   "execution_count": 13,
   "metadata": {},
   "outputs": [
    {
     "data": {
      "text/plain": [
       "<AxesSubplot:>"
      ]
     },
     "execution_count": 13,
     "metadata": {},
     "output_type": "execute_result"
    },
    {
     "data": {
      "image/png": "[encoded data removed]",
      "text/plain": [
       "<Figure size 432x288 with 1 Axes>"
      ]
     },
     "metadata": {
      "needs_background": "light"
     },
     "output_type": "display_data"
    }
   ],
   "source": [
    "sns.scatterplot(x = alturas, y = letras)"
   ]
  },
  {
   "cell_type": "markdown",
   "metadata": {},
   "source": [
    "### Vamos a ver esto en forma de matriz"
   ]
  },
  {
   "cell_type": "code",
   "execution_count": 20,
   "metadata": {},
   "outputs": [
    {
     "name": "stdout",
     "output_type": "stream",
     "text": [
      "Matriz con los datos\n",
      "[array([178, 176, 190, 155]), array([ 95,  76, 120,  56]), array([-3.,  3., -3.,  3.]), array([ 8.,  5.,  3., 10.])]\n",
      "158.6875\n",
      "[[211.58333333 375.91666667 -37.         -39.83333333]\n",
      " [375.91666667 744.91666667 -83.         -65.16666667]\n",
      " [-37.         -83.          12.           4.        ]\n",
      " [-39.83333333 -65.16666667   4.           9.66666667]]\n",
      "[[ 1.          0.9468845  -0.73429467 -0.88078022]\n",
      " [ 0.9468845   1.         -0.8778769  -0.76795061]\n",
      " [-0.73429467 -0.8778769   1.          0.37139068]\n",
      " [-0.88078022 -0.76795061  0.37139068  1.        ]]\n"
     ]
    }
   ],
   "source": [
    "# Armamos la matriz con todos los datos\n",
    "\n",
    "datos = [alturas,pesos,sexo,letras]\n",
    "print (\"Matriz con los datos\")\n",
    "print (datos)\n",
    "\n",
    "print (np.var(datos[0]))\n",
    "print (np.cov(datos))\n",
    "print (np.corrcoef(datos))"
   ]
  }
 ],
 "metadata": {
  "interpreter": {
   "hash": "a7889eb58562ee9ffdda09723566893bd6ace7942a15cdee2d0c85a6ab5acc75"
  },
  "kernelspec": {
   "display_name": "Python 3 (ipykernel)",
   "language": "python",
   "name": "python3"
  },
  "language_info": {
   "codemirror_mode": {
    "name": "ipython",
    "version": 3
   },
   "file_extension": ".py",
   "mimetype": "text/x-python",
   "name": "python",
   "nbconvert_exporter": "python",
   "pygments_lexer": "ipython3",
   "version": "3.7.3"
  }
 },
 "nbformat": 4,
 "nbformat_minor": 4
}
