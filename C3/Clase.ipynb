{
 "cells": [
  {
   "cell_type": "markdown",
   "id": "63e52759-97c8-499f-8fad-8e72bfd2bf78",
   "metadata": {},
   "source": [
    "# Numpy\n",
    "\n",
    "¿Que vamos a ver hoy?\n",
    "\n",
    "- ND-Array\n",
    "- dtype\n",
    "- index/slicing (repaso)\n",
    "- mascaras e indices booleanos\n",
    "- operaciones vectoriales (no vamos a ver matematica hoy)\n",
    "- Reglas para extender arrays en operaciones\n",
    "- Que es un seed\n",
    "- idea de ufunc\n",
    "  - sobre un vector\n",
    "  - sobre dos vectores\n",
    "  - agregacion\n",
    "- reduccion con axis\n",
    "- leer archivos genfromtxt\n",
    "- cambiar tipos astype\n",
    "\n",
    "## Funciones especificas\n",
    "\n",
    "- array\n",
    "- shape\n",
    "- size\n",
    "- ndim\n",
    "- arange\n",
    "- ones\n",
    "- zeros\n",
    "- reshape\n",
    "- random\n",
    "- random.uniform\n",
    "- empty\n",
    "\n",
    "\n",
    "## otras cosas\n",
    "\n",
    "- operador %"
   ]
  },
  {
   "cell_type": "markdown",
   "id": "8bde2638-bd53-4f1f-b09b-1976738ba9a0",
   "metadata": {},
   "source": [
    "# Problema a solucionar\n",
    "\n",
    "Tenemos un archivo excel con información sobre inversiones e inflación. Queremos saber que inversiones le ganaron a la inflación y cuales no. \n",
    "\n",
    "Vamos a suponer las siguientes cuestiones:\n",
    "\n",
    "- Lo que se cobra como cupon se descuenta del valor del bono\n",
    "- La plata que se cobra en cupon o interes se guarda en algun activo que ajusta por inflacion. \n",
    "\n",
    "![Inversion](./Inversion.png)"
   ]
  },
  {
   "cell_type": "markdown",
   "id": "7a0dd822-e2f6-4411-873f-e0ec3188b1eb",
   "metadata": {},
   "source": [
    "En este problema, tenemos que solucionar los siguientes problemas:\n",
    "\n",
    "- Leer la información.\n",
    "- Poder hacer cuentas mas o menos complejas (vamos a ver cuales, no hace falta que las inventen ustedes) financieras repitiendo operaciones para los datos.\n",
    "\n",
    "## Pasos a realizar\n",
    "\n",
    "- Leer la informacion correctamente y separar los encabezados del contenido.\n",
    "- Separar la informacion segun la columna \n",
    "- Construir un índice de inflacion a partir de los porcentajes de inflación mensual. \n",
    "- Calcular cuanto valdrian las inversiones si se colocara en algun activo que se ajuste por inflación.\n",
    "- Incluir el ajuste de valor de los cupones e interes. \n",
    "- Calcular cuanto valen las inversiones al finalizar el periodo para poder comparar con la inflación, incluyendo los cupones e interes."
   ]
  },
  {
   "cell_type": "code",
   "execution_count": 9,
   "id": "7694b412-2158-441e-986a-9290b9133f81",
   "metadata": {},
   "outputs": [],
   "source": [
    "# importamos numpy\n",
    "\n",
    "import numpy as np"
   ]
  },
  {
   "cell_type": "code",
   "execution_count": 14,
   "id": "371635b4-0bda-4329-ab42-e767f00bf99f",
   "metadata": {},
   "outputs": [
    {
     "data": {
      "text/plain": [
       "array([['', 'Enero', '', '', 'Febrero', '', '', 'Marzo', '', '', 'Abril',\n",
       "        '', '', 'Mayo', '', '', 'Junio', '', '', 'Julio', '', '',\n",
       "        'Agosto', '', '', 'Septiembre', '', '', 'Octubre', '', '',\n",
       "        'Noviembre', '', '', 'Diciembre', '', ''],\n",
       "       ['', 'Nominales', 'Valor', 'C&I (U)', 'Nominales', 'Valor',\n",
       "        'C&I (U)', 'Nominales', 'Valor', 'C&I (U)', 'Nominales', 'Valor',\n",
       "        'C&I (U)', 'Nominales', 'Valor', 'C&I (U)', 'Nominales', 'Valor',\n",
       "        'C&I (U)', 'Nominales', 'Valor', 'C&I (U)', 'Nominales', 'Valor',\n",
       "        'C&I (U)', 'Nominales', 'Valor', 'C&I (U)', 'Nominales', 'Valor',\n",
       "        'C&I (U)', 'Nominales', 'Valor', 'C&I (U)', 'Nominales', 'Valor',\n",
       "        'C&I (U)'],\n",
       "       ['Inflacion (%)', '', '2', '', '', '3.1', '', '', '1.9', '', '',\n",
       "        '1.4', '', '', '1.5', '', '', '1.8', '', '', '2.2', '', '',\n",
       "        '1.6', '', '', '1.2', '', '', '1', '', '', '0.9', '', '', '1.2',\n",
       "        ''],\n",
       "       ['ETH', '1000', '123', '', '', '130', '', '', '145', '', '',\n",
       "        '150', '', '', '110', '', '', '105', '', '', '132', '', '-500',\n",
       "        '148', '', '', '170', '', '', '185', '', '', '156', '', '-500',\n",
       "        '140', ''],\n",
       "       ['GOLD', '', '', '', '73', '110', '5', '10', '111', '5', '50',\n",
       "        '132', '5', '-80', '112', '5', '', '115', '5', '-53', '109', '5',\n",
       "        '', '85', '20', '', '68', '20', '', '45', '20', '', '22', '20',\n",
       "        '', '0', '20'],\n",
       "       ['Al29', '300', '54', '0', '', '57', '0', '-150', '60', '0', '',\n",
       "        '62', '0', '200', '65', '0', '', '69', '0', '-150', '75', '0',\n",
       "        '', '72', '7', '-100', '70', '3', '', '73', '7', '-100', '74',\n",
       "        '3', '', '77', '7']], dtype='<U13')"
      ]
     },
     "execution_count": 14,
     "metadata": {},
     "output_type": "execute_result"
    }
   ],
   "source": [
    "filename = \"./Datos.csv\"\n",
    "\n",
    "data_cruda = np.genfromtxt(filename, delimiter=\"\\t\",dtype = str) # Notar que si no ponemos el separador correcto tira error. Y si no ponemos dtype lee todo como vacio.\n",
    "\n",
    "data_cruda"
   ]
  },
  {
   "cell_type": "code",
   "execution_count": 29,
   "id": "565d5a51-8f05-488e-a9fa-9ade0ffafb5f",
   "metadata": {},
   "outputs": [],
   "source": [
    "data_cruda[0]\n",
    "data_cruda[1]\n",
    "\n",
    "\n",
    "lineas_de_encabezado = 2\n",
    "\n",
    "encabezados = data_cruda[:lineas_de_encabezado]\n",
    "inflacion = data_cruda[lineas_de_encabezado]\n",
    "contenido = data_cruda[lineas_de_encabezado + 1:]"
   ]
  },
  {
   "cell_type": "code",
   "execution_count": 48,
   "id": "4ef34f36-0612-41cf-88a2-e141b7381e6e",
   "metadata": {},
   "outputs": [
    {
     "name": "stdout",
     "output_type": "stream",
     "text": [
      "[['' 'Enero' '' '' 'Febrero' '' '' 'Marzo' '' '' 'Abril' '' '' 'Mayo' ''\n",
      "  '' 'Junio' '' '' 'Julio' '' '' 'Agosto' '' '' 'Septiembre' '' ''\n",
      "  'Octubre' '' '' 'Noviembre' '' '' 'Diciembre' '' '']\n",
      " ['' 'Nominales' 'Valor' 'C&I (U)' 'Nominales' 'Valor' 'C&I (U)'\n",
      "  'Nominales' 'Valor' 'C&I (U)' 'Nominales' 'Valor' 'C&I (U)' 'Nominales'\n",
      "  'Valor' 'C&I (U)' 'Nominales' 'Valor' 'C&I (U)' 'Nominales' 'Valor'\n",
      "  'C&I (U)' 'Nominales' 'Valor' 'C&I (U)' 'Nominales' 'Valor' 'C&I (U)'\n",
      "  'Nominales' 'Valor' 'C&I (U)' 'Nominales' 'Valor' 'C&I (U)' 'Nominales'\n",
      "  'Valor' 'C&I (U)']]\n"
     ]
    }
   ],
   "source": [
    "# Queremos armar una lista de los meses\n",
    "\n",
    "print (encabezados)\n",
    "\n",
    "meses = encabezados[0,1:encabezados[0].size:3]"
   ]
  },
  {
   "cell_type": "code",
   "execution_count": 66,
   "id": "87bfd2ea-e523-4b35-a48c-f5046aeda713",
   "metadata": {},
   "outputs": [
    {
     "data": {
      "text/plain": [
       "numpy.ndarray"
      ]
     },
     "execution_count": 66,
     "metadata": {},
     "output_type": "execute_result"
    }
   ],
   "source": [
    "# Queremos de contenido extraer los valores de \"Nominal\"\n",
    "contenido\n",
    "encabezados[1]\n",
    "\n",
    "texto = \"Nominales\"\n",
    "mascara_indices_nominal = encabezados[1] == texto\n",
    "\n",
    "texto = \"Valor\"\n",
    "mascara_indices_valor = encabezados[1] == texto\n",
    "\n",
    "texto = \"C&I (U)\"\n",
    "mascara_indices_cupon = encabezados[1] == texto\n",
    "\n",
    "contenido[0][mascara_indices_valores]\n",
    "\n",
    "# Que tipo de abjeto es mascara...\n",
    "\n",
    "type(mascara_indices_valores)\n"
   ]
  },
  {
   "cell_type": "code",
   "execution_count": 71,
   "id": "46456d32-25e7-46dd-b54e-1482754026b3",
   "metadata": {},
   "outputs": [
    {
     "name": "stdout",
     "output_type": "stream",
     "text": [
      "[{'Nombre': 'ETH', 'Valores': array([123., 130., 145., 150., 110., 105., 132., 148., 170., 185., 156.,\n",
      "       140.]), 'Cupones': array([0., 0., 0., 0., 0., 0., 0., 0., 0., 0., 0., 0.]), 'Nominales': array([1000.,    0.,    0.,    0.,    0.,    0.,    0., -500.,    0.,\n",
      "          0.,    0., -500.])}, {'Nombre': 'GOLD', 'Valores': array([  0., 110., 111., 132., 112., 115., 109.,  85.,  68.,  45.,  22.,\n",
      "         0.]), 'Cupones': array([ 0.,  5.,  5.,  5.,  5.,  5.,  5., 20., 20., 20., 20., 20.]), 'Nominales': array([  0.,  73.,  10.,  50., -80.,   0., -53.,   0.,   0.,   0.,   0.,\n",
      "         0.])}, {'Nombre': 'Al29', 'Valores': array([54., 57., 60., 62., 65., 69., 75., 72., 70., 73., 74., 77.]), 'Cupones': array([0., 0., 0., 0., 0., 0., 0., 7., 3., 7., 3., 7.]), 'Nominales': array([ 300.,    0., -150.,    0.,  200.,    0., -150.,    0., -100.,\n",
      "          0., -100.,    0.])}]\n"
     ]
    },
    {
     "name": "stderr",
     "output_type": "stream",
     "text": [
      "C:\\Anaconda3\\lib\\site-packages\\ipykernel_launcher.py:12: DeprecationWarning: `np.float` is a deprecated alias for the builtin `float`. To silence this warning, use `float` by itself. Doing this will not modify any behavior and is safe. If you specifically wanted the numpy scalar type, use `np.float64` here.\n",
      "Deprecated in NumPy 1.20; for more details and guidance: https://numpy.org/devdocs/release/1.20.0-notes.html#deprecations\n",
      "  if sys.path[0] == '':\n",
      "C:\\Anaconda3\\lib\\site-packages\\ipykernel_launcher.py:13: DeprecationWarning: `np.float` is a deprecated alias for the builtin `float`. To silence this warning, use `float` by itself. Doing this will not modify any behavior and is safe. If you specifically wanted the numpy scalar type, use `np.float64` here.\n",
      "Deprecated in NumPy 1.20; for more details and guidance: https://numpy.org/devdocs/release/1.20.0-notes.html#deprecations\n",
      "  del sys.path[0]\n",
      "C:\\Anaconda3\\lib\\site-packages\\ipykernel_launcher.py:14: DeprecationWarning: `np.float` is a deprecated alias for the builtin `float`. To silence this warning, use `float` by itself. Doing this will not modify any behavior and is safe. If you specifically wanted the numpy scalar type, use `np.float64` here.\n",
      "Deprecated in NumPy 1.20; for more details and guidance: https://numpy.org/devdocs/release/1.20.0-notes.html#deprecations\n",
      "  \n"
     ]
    }
   ],
   "source": [
    "# Ahora vamos a extraer la informacion en forma de diccionario para cada activo\n",
    "\n",
    "activos = []\n",
    "\n",
    "# contenido[contenido == \"\"] = np.nan\n",
    "contenido[contenido == \"\"] = \"0\"\n",
    "\n",
    "for elemento in contenido:\n",
    "    #print (elemento)\n",
    "    activo = {}\n",
    "    activo[\"Nombre\"] = elemento[0]\n",
    "    activo[\"Valores\"] = elemento[mascara_indices_valor].astype(np.float)\n",
    "    activo[\"Cupones\"] = elemento[mascara_indices_cupon].astype(np.float)\n",
    "    activo[\"Nominales\"] = elemento[mascara_indices_nominal].astype(np.float)\n",
    "    activos.append(activo)\n",
    "\n",
    "print (activos)"
   ]
  },
  {
   "cell_type": "code",
   "execution_count": 84,
   "id": "be67c299-a4f7-4651-8c4f-7af30147ce5d",
   "metadata": {},
   "outputs": [
    {
     "name": "stdout",
     "output_type": "stream",
     "text": [
      "[2.  3.1 1.9 1.4 1.5 1.8 2.2 1.6 1.2 1.  0.9 1.2]\n",
      "[1.02  1.031 1.019 1.014 1.015 1.018 1.022 1.016 1.012 1.01  1.009 1.012]\n"
     ]
    },
    {
     "name": "stderr",
     "output_type": "stream",
     "text": [
      "C:\\Anaconda3\\lib\\site-packages\\ipykernel_launcher.py:9: DeprecationWarning: `np.float` is a deprecated alias for the builtin `float`. To silence this warning, use `float` by itself. Doing this will not modify any behavior and is safe. If you specifically wanted the numpy scalar type, use `np.float64` here.\n",
      "Deprecated in NumPy 1.20; for more details and guidance: https://numpy.org/devdocs/release/1.20.0-notes.html#deprecations\n",
      "  if __name__ == '__main__':\n"
     ]
    },
    {
     "data": {
      "text/plain": [
       "array([1.21675451, 1.19289658, 1.15702869, 1.13545504, 1.11977815,\n",
       "       1.1032297 , 1.0837227 , 1.06039403, 1.04369491, 1.03131908,\n",
       "       1.021108  , 1.012     ])"
      ]
     },
     "execution_count": 84,
     "metadata": {},
     "output_type": "execute_result"
    }
   ],
   "source": [
    "# Hasta aca con listas se podria haber hecho casi que lo mismo.\n",
    "\n",
    "# Vamos a calcular la inflacion acumulada desde cada mes hasta el final. \n",
    "\n",
    "# Veamos primero como es la info que tenemos de inflacion.\n",
    "\n",
    "inflacion\n",
    "\n",
    "inflacion_numerica = inflacion[mascara_indices_valor].astype(np.float)\n",
    "\n",
    "print (inflacion_numerica)\n",
    "\n",
    "inflacion_numerica = inflacion_numerica/100 + 1\n",
    "\n",
    "print (inflacion_numerica)\n",
    "\n",
    "\n",
    "inflacion_acumulada = inflacion_numerica.cumprod()\n",
    "\n",
    "inflacion_acumulada\n",
    "\n",
    "# Esto sirve si tenemos un valor en Enero y queremos saber cuando va a valer por ejemplo hasta Julio, hacemos el valor en enero por el valor del casillero Julio, pero no sirve si queremos hacer el valor en diciembre de algo que tenemos en Julio\n",
    "# Para esta segunda cuenta necesitamos multiplicar por la inflacion mensual desde atras. \n",
    "\n",
    "inflacion_acumulada_reversa = np.flip(np.flip(inflacion_numerica).cumprod())\n",
    "\n",
    "inflacion_acumulada_reversa\n"
   ]
  },
  {
   "cell_type": "code",
   "execution_count": 97,
   "id": "6480d0ef-4cd6-4e25-94e2-0341842be45d",
   "metadata": {},
   "outputs": [
    {
     "name": "stdout",
     "output_type": "stream",
     "text": [
      "[ 300.    0. -150.    0.  200.    0. -150.    0. -100.    0. -100.    0.]\n",
      "[300. 300. 150. 150. 350. 350. 200. 200. 100. 100.   0.   0.]\n",
      "[   0.    0.    0.    0.    0.    0.    0. 1400.  300.  700.    0.    0.]\n",
      "[   0.            0.            0.            0.            0.\n",
      "    0.            0.         1484.5516385   313.10847269  721.923356\n",
      "    0.            0.        ]\n",
      "2519.5834671927037\n"
     ]
    }
   ],
   "source": [
    "activo = activos[2]\n",
    "activo\n",
    "\n",
    "print (activo[\"Nominales\"])\n",
    "\n",
    "activo[\"Nominales_totales\"] = activo[\"Nominales\"].cumsum()\n",
    "print(activo[\"Nominales_totales\"])\n",
    "\n",
    "activo[\"Beneficio_mes_a_mes\"] = activo[\"Nominales_totales\"] * activo[\"Cupones\"]\n",
    "\n",
    "print (activo[\"Beneficio_mes_a_mes\"])\n",
    "\n",
    "activo[\"Beneficio_mes_a_mes_valuado_hoy\"] = activo[\"Beneficio_mes_a_mes\"] * inflacion_acumulada_reversa\n",
    "print (activo[\"Beneficio_mes_a_mes_valuado_hoy\"])\n",
    "\n",
    "activo[\"Beneficio_valuado_hoy_total\"] = activo[\"Beneficio_mes_a_mes_valuado_hoy\"].sum()\n",
    "print (activo[\"Beneficio_valuado_hoy_total\"])\n"
   ]
  },
  {
   "cell_type": "code",
   "execution_count": 99,
   "id": "64bee630-a6db-4000-854d-95a282db792c",
   "metadata": {},
   "outputs": [
    {
     "name": "stdout",
     "output_type": "stream",
     "text": [
      "[54. 57. 60. 62. 65. 69. 75. 72. 70. 73. 74. 77.]\n",
      "[ 300.    0. -150.    0.  200.    0. -150.    0. -100.    0. -100.    0.]\n",
      "[ 300.    0. -150.    0.  200.    0. -150.    0. -100.    0. -100.    0.]\n",
      "[-19711.42308044     -0.          10413.25821138     -0.\n",
      " -14557.1159527      -0.          12191.88033122     -0.\n",
      "   7305.86436272     -0.           7556.1992         -0.        ]\n",
      "3198.663072168253\n",
      "2519.5834671927037\n",
      "Ganancia neta valudad hoy: 5718.246539360956\n"
     ]
    }
   ],
   "source": [
    "print (activo[\"Valores\"])\n",
    "print (activo[\"Nominales\"])\n",
    "\n",
    "# Vamos a modificar la lista de nominales para que \"se venda\" todo en el ultimo mes.\n",
    "\n",
    "activo[\"Nominales_liquidado\"] = activo[\"Nominales\"]\n",
    "activo[\"Nominales_liquidado\"][-1] = activo[\"Nominales_liquidado\"][-1] + - activo[\"Nominales\"].sum()\n",
    "print (activo[\"Nominales_liquidado\"])\n",
    "\n",
    "\n",
    "activo[\"CambioValor_mes_a_mes_valudado_hoy\"] = - activo[\"Nominales_liquidado\"]*activo[\"Valores\"]*inflacion_acumulada_reversa # El menos es porque un nominal positivo es comprar pero es un gasto.\n",
    "\n",
    "print (activo[\"CambioValor_mes_a_mes_valudado_hoy\"])\n",
    "\n",
    "activo[\"CambioValor_valuado_hoy\"] = activo[\"CambioValor_mes_a_mes_valudado_hoy\"].sum()\n",
    "\n",
    "print (activo[\"CambioValor_valuado_hoy\"])\n",
    "\n",
    "print (activo[\"Beneficio_valuado_hoy_total\"])\n",
    "print (\"Ganancia neta valudad hoy: \" + str(activo[\"CambioValor_valuado_hoy\"] + activo[\"Beneficio_valuado_hoy_total\"]))\n"
   ]
  },
  {
   "cell_type": "code",
   "execution_count": 103,
   "id": "ad672173-de78-4f66-bfa6-bd1d2e63ca52",
   "metadata": {},
   "outputs": [
    {
     "data": {
      "text/plain": [
       "array([False,  True, False])"
      ]
     },
     "execution_count": 103,
     "metadata": {},
     "output_type": "execute_result"
    }
   ],
   "source": [
    "a = np.array([1,2,3])\n",
    "b = np.array([1,2,4])\n",
    "\n",
    "a == b\n",
    "\n",
    "c = [1,2,3]\n",
    "d = [1,2,4]\n",
    "\n",
    "c == d\n",
    "\n",
    "\n",
    "a == 2"
   ]
  },
  {
   "cell_type": "code",
   "execution_count": 105,
   "id": "1e9b8d57-1ee1-4050-b4fb-81e086b182c0",
   "metadata": {},
   "outputs": [
    {
     "data": {
      "text/plain": [
       "array([[1, 2],\n",
       "       [3, 4]])"
      ]
     },
     "execution_count": 105,
     "metadata": {},
     "output_type": "execute_result"
    }
   ],
   "source": [
    "a = np.array([[1,2],[3,4]])\n",
    "a"
   ]
  },
  {
   "cell_type": "code",
   "execution_count": 108,
   "id": "6795663d-8cd6-416e-b94f-966f566d367b",
   "metadata": {},
   "outputs": [
    {
     "data": {
      "text/plain": [
       "array([3, 7])"
      ]
     },
     "execution_count": 108,
     "metadata": {},
     "output_type": "execute_result"
    }
   ],
   "source": [
    "a.sum(axis=1)"
   ]
  }
 ],
 "metadata": {
  "kernelspec": {
   "display_name": "Python 3 (ipykernel)",
   "language": "python",
   "name": "python3"
  },
  "language_info": {
   "codemirror_mode": {
    "name": "ipython",
    "version": 3
   },
   "file_extension": ".py",
   "mimetype": "text/x-python",
   "name": "python",
   "nbconvert_exporter": "python",
   "pygments_lexer": "ipython3",
   "version": "3.7.3"
  }
 },
 "nbformat": 4,
 "nbformat_minor": 5
}
