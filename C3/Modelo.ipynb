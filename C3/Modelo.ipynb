{
 "cells": [
  {
   "cell_type": "markdown",
   "metadata": {},
   "source": [
    "# Numpy\n",
    "\n",
    "¿Que vamos a ver hoy?\n",
    "\n",
    "- ND-Array\n",
    "- dtype\n",
    "- index/slicing (repaso)\n",
    "- mascaras e indices booleanos\n",
    "- operaciones vectoriales (no vamos a ver matematica hoy)\n",
    "- Reglas para extender arrays en operaciones\n",
    "- Que es un seed\n",
    "- idea de ufunc\n",
    "  - sobre un vector\n",
    "  - sobre dos vectores\n",
    "  - agregacion\n",
    "- reduccion con axis\n",
    "- leer archivos genfromtxt\n",
    "- cambiar tipos astype\n",
    "\n",
    "## Funciones especificas\n",
    "\n",
    "- array\n",
    "- shape\n",
    "- size\n",
    "- ndim\n",
    "- arange\n",
    "- ones\n",
    "- zeros\n",
    "- reshape\n",
    "- random\n",
    "- random.uniform\n",
    "- empty\n",
    "\n",
    "\n",
    "## otras cosas\n",
    "\n",
    "- operador %"
   ]
  },
  {
   "cell_type": "markdown",
   "metadata": {},
   "source": [
    "# Problema a solucionar\n",
    "\n",
    "Tenemos un archivo excel con información sobre inversiones e inflación. Queremos saber que inversiones le ganaron a la inflación y cuales no. \n",
    "\n",
    "Vamos a suponer las siguientes cuestiones:\n",
    "\n",
    "- Lo que se cobra como cupon se descuenta del valor del bono\n",
    "- La plata que se cobra en cupon o interes se guarda en algun activo que ajusta por inflacion. \n",
    "\n",
    "![Inversion](./Inversion.png)"
   ]
  },
  {
   "cell_type": "markdown",
   "metadata": {},
   "source": [
    "En este problema, tenemos que solucionar los siguientes problemas:\n",
    "\n",
    "- Leer la información.\n",
    "- Poder hacer cuentas mas o menos complejas (vamos a ver cuales, no hace falta que las inventen ustedes) financieras repitiendo operaciones para los datos.\n",
    "- Chequear que la informacion tenga cierto sentido.\n",
    "\n",
    "## Pasos a realizar\n",
    "\n",
    "- Leer la informacion correctamente y separar los encabezados del contenido.\n",
    "- Separar la informacion segun la columna \n",
    "\n",
    "- Chequear que la informacion sea valida (a ojo y matematicamente)\n",
    "\n",
    "- Construir un índice de inflacion a partir de los porcentajes de inflación mensual. \n",
    "- Calcular cuanto valdrian las inversiones si se colocara en algun activo que se ajuste por inflación.\n",
    "- Incluir el ajuste de valor de los cupones e interes. \n",
    "- Calcular cuanto valen las inversiones al finalizar el periodo para poder comparar con la inflación, incluyendo los cupones e interes.\n"
   ]
  },
  {
   "cell_type": "code",
   "execution_count": 18,
   "metadata": {},
   "outputs": [],
   "source": [
    "# importamos numpy\n",
    "\n",
    "import numpy as np"
   ]
  },
  {
   "cell_type": "code",
   "execution_count": 19,
   "metadata": {},
   "outputs": [
    {
     "data": {
      "text/plain": [
       "array([['', 'Enero', '', '', 'Febrero', '', '', 'Marzo', '', '', 'Abril',\n",
       "        '', '', 'Mayo', '', '', 'Junio', '', '', 'Julio', '', '',\n",
       "        'Agosto', '', '', 'Septiembre', '', '', 'Octubre', '', '',\n",
       "        'Noviembre', '', '', 'Diciembre', '', ''],\n",
       "       ['', 'Nominales', 'Valor', 'C&I (U)', 'Nominales', 'Valor',\n",
       "        'C&I (U)', 'Nominales', 'Valor', 'C&I (U)', 'Nominales', 'Valor',\n",
       "        'C&I (U)', 'Nominales', 'Valor', 'C&I (U)', 'Nominales', 'Valor',\n",
       "        'C&I (U)', 'Nominales', 'Valor', 'C&I (U)', 'Nominales', 'Valor',\n",
       "        'C&I (U)', 'Nominales', 'Valor', 'C&I (U)', 'Nominales', 'Valor',\n",
       "        'C&I (U)', 'Nominales', 'Valor', 'C&I (U)', 'Nominales', 'Valor',\n",
       "        'C&I (U)'],\n",
       "       ['Inflacion (%)', '', '2', '', '', '3.1', '', '', '1.9', '', '',\n",
       "        '1.4', '', '', '1.5', '', '', '1.8', '', '', '2.2', '', '',\n",
       "        '1.6', '', '', '1.2', '', '', '1', '', '', '0.9', '', '', '1.2',\n",
       "        ''],\n",
       "       ['ETH', '1000', '123', '', '', '130', '', '', '145', '', '',\n",
       "        '150', '', '', '110', '', '', '105', '', '', '132', '', '-500',\n",
       "        '148', '', '', '170', '', '', '185', '', '', '156', '', '-500',\n",
       "        '140', ''],\n",
       "       ['GOLD', '', '', '', '73', '110', '5', '10', '111', '5', '50',\n",
       "        '132', '5', '-80', '112', '5', '', '115', '5', '-53', '109', '5',\n",
       "        '', '85', '20', '', '68', '20', '', '45', '20', '', '22', '20',\n",
       "        '', '0', '20'],\n",
       "       ['Al29', '300', '54', '0', '', '57', '0', '-150', '60', '0', '',\n",
       "        '62', '0', '200', '65', '0', '', '69', '0', '-150', '75', '0',\n",
       "        '', '72', '7', '-100', '70', '3', '', '73', '7', '-100', '74',\n",
       "        '3', '', '77', '7']], dtype='<U13')"
      ]
     },
     "execution_count": 19,
     "metadata": {},
     "output_type": "execute_result"
    }
   ],
   "source": [
    "filename = \"./Datos.csv\"\n",
    "\n",
    "data_cruda = np.genfromtxt(filename, delimiter=\"\\t\", dtype = str) # Notar que si no ponemos el separador correcto tira error. Y si no ponemos dtype lee todo como vacio.\n",
    "\n",
    "data_cruda"
   ]
  },
  {
   "cell_type": "code",
   "execution_count": 20,
   "metadata": {},
   "outputs": [],
   "source": [
    "# Veamos algunas propiedades de la informacion\n",
    "\n",
    "data_cruda.size\n",
    "data_cruda.shape\n",
    "data_cruda.ndim\n",
    "\n",
    "# Busquemos alguna informacion util\n",
    "\n",
    "data_cruda[0]\n",
    "\n",
    "data_cruda[1]\n",
    "\n",
    "data_cruda[2]\n",
    "\n",
    "data_cruda[3:6]\n",
    "\n",
    "# Si quisieramos hacerlo mas robusto:\n",
    "\n",
    "lineas_de_encabezado = 2\n",
    "\n",
    "encabezados = data_cruda[:lineas_de_encabezado]\n",
    "inflacion = data_cruda[lineas_de_encabezado]\n",
    "contenido = data_cruda[lineas_de_encabezado + 1:]\n",
    "\n",
    "# Notar que en la segunda seccion no hay valores arbitrarios, todos los valores se hacen con funciones o con un sentido logico (por ej el +1)"
   ]
  },
  {
   "cell_type": "code",
   "execution_count": 21,
   "metadata": {},
   "outputs": [
    {
     "name": "stdout",
     "output_type": "stream",
     "text": [
      "[False False  True False False  True False False  True False False  True\n",
      " False False  True False False  True False False  True False False  True\n",
      " False False  True False False  True False False  True False False  True\n",
      " False]\n"
     ]
    }
   ],
   "source": [
    "# Vamos a construir un index para extraer los nombres de los meses\n",
    "\n",
    "# Primero queremos entender como construirlo\n",
    "\n",
    "encabezados[0]\n",
    "\n",
    "# Hay que hacer a partir del 1 y uno de cada tres hasta el ultimo\n",
    "\n",
    "start = 1\n",
    "stop = encabezados[0].size\n",
    "step = 3\n",
    "index = np.arange(start,stop,step)\n",
    "\n",
    "meses = encabezados[0][index] # Notar la doble indexacion\n",
    "\n",
    "# Ahora queremos saber en que columnas hay info del valor, de la cantidad de nominales (comprado o vendidos), y del Cupon o interes\n",
    "\n",
    "# primero inspeccionamos la fila\n",
    "\n",
    "encabezados[1]\n",
    "\n",
    "# Los textos son: \"Nominales\", \"Valor\" y \"C&I (U)\"\n",
    "\n",
    "texto = \"Valor\"\n",
    "mascara_indices_valor = encabezados[1] == texto\n",
    "print (mascara_indices_valor)\n",
    "\n",
    "texto = \"Nominales\"\n",
    "mascara_indices_nominal = encabezados[1] == texto\n",
    "\n",
    "texto = \"C&I (U)\"\n",
    "mascara_indices_cupon = encabezados[1] == texto\n",
    "\n"
   ]
  },
  {
   "cell_type": "code",
   "execution_count": 22,
   "metadata": {},
   "outputs": [
    {
     "name": "stdout",
     "output_type": "stream",
     "text": [
      "['ETH' '1000' '123' '0' '0' '130' '0' '0' '145' '0' '0' '150' '0' '0'\n",
      " '110' '0' '0' '105' '0' '0' '132' '0' '-500' '148' '0' '0' '170' '0' '0'\n",
      " '185' '0' '0' '156' '0' '-500' '140' '0']\n",
      "['GOLD' '0' '0' '0' '73' '110' '5' '10' '111' '5' '50' '132' '5' '-80'\n",
      " '112' '5' '0' '115' '5' '-53' '109' '5' '0' '85' '20' '0' '68' '20' '0'\n",
      " '45' '20' '0' '22' '20' '0' '0' '20']\n",
      "['Al29' '300' '54' '0' '0' '57' '0' '-150' '60' '0' '0' '62' '0' '200'\n",
      " '65' '0' '0' '69' '0' '-150' '75' '0' '0' '72' '7' '-100' '70' '3' '0'\n",
      " '73' '7' '-100' '74' '3' '0' '77' '7']\n",
      "{'Nombre': 'ETH', 'Valores': array([123., 130., 145., 150., 110., 105., 132., 148., 170., 185., 156.,\n",
      "       140.]), 'Cupones': array([0., 0., 0., 0., 0., 0., 0., 0., 0., 0., 0., 0.]), 'Nominales': array([1000.,    0.,    0.,    0.,    0.,    0.,    0., -500.,    0.,\n",
      "          0.,    0., -500.])}\n"
     ]
    }
   ],
   "source": [
    "# Ahora vamos a extraer la informacion en forma de diccionario para cada activo\n",
    "\n",
    "activos = []\n",
    "\n",
    "# contenido[contenido == \"\"] = np.nan\n",
    "contenido[contenido == \"\"] = \"0\"\n",
    "\n",
    "for elemento in contenido:\n",
    "    print (elemento)\n",
    "    activo = {}\n",
    "    activo[\"Nombre\"] = elemento[0]\n",
    "    activo[\"Valores\"] = elemento[mascara_indices_valor].astype(np.float)\n",
    "    activo[\"Cupones\"] = elemento[mascara_indices_cupon].astype(np.float)\n",
    "    activo[\"Nominales\"] = elemento[mascara_indices_nominal].astype(np.float)\n",
    "    activos.append(activo)\n",
    "\n",
    "print (activos[0])"
   ]
  },
  {
   "cell_type": "code",
   "execution_count": 23,
   "metadata": {},
   "outputs": [
    {
     "data": {
      "text/plain": [
       "array([1.21675451, 1.19289658, 1.15702869, 1.13545504, 1.11977815,\n",
       "       1.1032297 , 1.0837227 , 1.06039403, 1.04369491, 1.03131908,\n",
       "       1.021108  , 1.012     ])"
      ]
     },
     "execution_count": 23,
     "metadata": {},
     "output_type": "execute_result"
    }
   ],
   "source": [
    "# Hasta aca con listas se podria haber hecho casi que lo mismo.\n",
    "\n",
    "# Vamos a calcular la inflacion acumulada desde cada mes hasta el final. \n",
    "\n",
    "# Veamos primero como es la info que tenemos de inflacion.\n",
    "\n",
    "inflacion\n",
    "\n",
    "inflacion_numerica = inflacion[mascara_indices_valor].astype(np.float)\n",
    "\n",
    "inflacion_numerica # Esto esta en porcentaje pero si la inflacion fue de 2% quiere decir que hay que multuiplicar el precio inicial por 1.02\n",
    "\n",
    "# Como hacemos eso de manera linda con vectores numpy\n",
    "\n",
    "inflacion_numerica = inflacion_numerica /100 + 1 # Esto no se podia hacer tan facil con listas!!!!\n",
    "\n",
    "inflacion_numerica\n",
    "\n",
    "inflacion_acumulada = inflacion_numerica.cumprod()\n",
    "\n",
    "inflacion_acumulada\n",
    "\n",
    "# Esto sirve si tenemos un valor en Enero y queremos saber cuando va a valer por ejemplo hasta Julio, hacemos el valor en enero por el valor del casillero Julio, pero no sirve si queremos hacer el valor en diciembre de algo que tenemos en Julio\n",
    "# Para esta segunda cuenta necesitamos multiplicar por la inflacion mensual desde atras. \n",
    "\n",
    "inflacion_acumulada_reversa = np.flip(np.flip(inflacion_numerica).cumprod())\n",
    "\n",
    "inflacion_acumulada_reversa"
   ]
  },
  {
   "cell_type": "markdown",
   "metadata": {},
   "source": [
    "# Calculo de ganancia por cupones o intereses\n",
    "\n",
    "Para calcular cuanto no da de intereses o cupones un activo hay que hacer lo siguiente:\n",
    "\n",
    "1) Saber cuantos nominales tenemos de cada activo cada mes.\n",
    "2) Multiplicar esos nominales por lo que rinde cada nominal ese mes para saber el monto de beneficio de cada mes.\n",
    "3) Multiplicar el monto de beneficio de cada mes por el ajuste de inflacion (reverso porque es desde ese mes hasta el final)\n"
   ]
  },
  {
   "cell_type": "code",
   "execution_count": 24,
   "metadata": {},
   "outputs": [
    {
     "name": "stdout",
     "output_type": "stream",
     "text": [
      "[1000.    0.    0.    0.    0.    0.    0. -500.    0.    0.    0. -500.]\n",
      "[0. 0. 0. 0. 0. 0. 0. 0. 0. 0. 0. 0.]\n",
      "[1000. 1000. 1000. 1000. 1000. 1000. 1000.  500.  500.  500.  500.    0.]\n",
      "[0. 0. 0. 0. 0. 0. 0. 0. 0. 0. 0. 0.]\n",
      "0.0\n"
     ]
    }
   ],
   "source": [
    "activo = activos[0]\n",
    "\n",
    "print (activo[\"Nominales\"])\n",
    "print (activo[\"Cupones\"])\n",
    "\n",
    "# ¿Como hacemos para saber cuantos nominales tenemos mes a mes si sabemos las compras y ventas?\n",
    "\n",
    "activo[\"Nominales_totales\"] = activo[\"Nominales\"].cumsum()\n",
    "\n",
    "print (activo[\"Nominales_totales\"])\n",
    "\n",
    "activo[\"Beneficio_mes_a_mes\"] = activo[\"Nominales_totales\"] * activo[\"Cupones\"]\n",
    "\n",
    "print (activo[\"Beneficio_mes_a_mes\"])\n",
    "activo[\"Beneficio_mes_a_mes_valuado_hoy\"] = activo[\"Beneficio_mes_a_mes\"] * inflacion_acumulada_reversa\n",
    "activo[\"Beneficio_mes_a_mes_valuado_hoy\"]\n",
    "activo[\"Beneficio_valuado_hoy_total\"] = activo[\"Beneficio_mes_a_mes_valuado_hoy\"].sum()\n",
    "\n",
    "print (activo[\"Beneficio_valuado_hoy_total\"])\n",
    "\n",
    "# Podriamos hacer esto para todos los activos en una sola linea, pero lo dejamos aca. "
   ]
  },
  {
   "cell_type": "markdown",
   "metadata": {},
   "source": [
    "# Calculo de ganancia por valor o compra - venta de activos\n",
    "\n",
    "La idea es similar a la anterior pero ahora hay que considerar \n",
    "\n",
    "1) El valor al dia de hoy de los gastado en comprar o lo ganado en vender \n",
    "2) La cantidad de activos que quedan. Para esto ultimo podemos considerar que vendemos todo lo que queda en el ultimo mes."
   ]
  },
  {
   "cell_type": "code",
   "execution_count": 25,
   "metadata": {},
   "outputs": [
    {
     "name": "stdout",
     "output_type": "stream",
     "text": [
      "[123. 130. 145. 150. 110. 105. 132. 148. 170. 185. 156. 140.]\n",
      "[1000.    0.    0.    0.    0.    0.    0. -500.    0.    0.    0. -500.]\n",
      "[-149660.80487003      -0.              -0.              -0.\n",
      "      -0.              -0.              -0.           78469.15803525\n",
      "      -0.              -0.              -0.           70840.        ]\n",
      "-351.6468347826449\n",
      "0.0\n",
      "Ganancia neta valudad hoy: -351.6468347826449\n"
     ]
    }
   ],
   "source": [
    "print (activo[\"Valores\"])\n",
    "print (activo[\"Nominales\"])\n",
    "\n",
    "# Vamos a modificar la lista de nominales para que \"se venda\" todo en el ultimo mes.\n",
    "\n",
    "activo[\"Nominales_liquidado\"] = activo[\"Nominales\"]\n",
    "activo[\"Nominales_liquidado\"][-1] = activo[\"Nominales_liquidado\"][-1] + - activo[\"Nominales\"].sum()\n",
    "activo[\"Nominales_liquidado\"]\n",
    "\n",
    "activo[\"CambioValor_mes_a_mes_valudado_hoy\"] = - activo[\"Nominales_liquidado\"]*activo[\"Valores\"]*inflacion_acumulada_reversa # El menos es porque un nominal positivo es comprar pero es un gasto.\n",
    "\n",
    "print (activo[\"CambioValor_mes_a_mes_valudado_hoy\"])\n",
    "\n",
    "activo[\"CambioValor_valuado_hoy\"] = activo[\"CambioValor_mes_a_mes_valudado_hoy\"].sum()\n",
    "\n",
    "print (activo[\"CambioValor_valuado_hoy\"])\n",
    "\n",
    "print (activo[\"Beneficio_valuado_hoy_total\"])\n",
    "print (\"Ganancia neta valudad hoy: \" + str(activo[\"CambioValor_valuado_hoy\"] + activo[\"Beneficio_valuado_hoy_total\"]))\n"
   ]
  },
  {
   "cell_type": "markdown",
   "metadata": {},
   "source": [
    "# Pasamos prolijo todo"
   ]
  },
  {
   "cell_type": "code",
   "execution_count": 26,
   "metadata": {},
   "outputs": [],
   "source": [
    "import numpy as np\n",
    "\n",
    "filename = \"./Datos.csv\"\n",
    "\n",
    "data_cruda = np.genfromtxt(filename, delimiter=\"\\t\", dtype = str) # Notar que si no ponemos el separador correcto tira error. Y si no ponemos dtype lee todo como vacio.\n",
    "\n",
    "lineas_de_encabezado = 2\n",
    "\n",
    "\n",
    "encabezados = data_cruda[:lineas_de_encabezado]\n",
    "inflacion = data_cruda[lineas_de_encabezado]\n",
    "contenido = data_cruda[lineas_de_encabezado + 1:]\n",
    "\n",
    "# Los textos son: \"Nominales\", \"Valor\" y \"C&I (U)\"\n",
    "\n",
    "texto = \"Valor\"\n",
    "mascara_indices_valor = encabezados[1] == texto\n",
    "texto = \"Nominales\"\n",
    "mascara_indices_nominal = encabezados[1] == texto\n",
    "texto = \"C&I (U)\"\n",
    "mascara_indices_cupon = encabezados[1] == texto\n",
    "\n",
    "inflacion = inflacion[mascara_indices_valor].astype(np.float)\n",
    "\n",
    "\n",
    "activos = []\n",
    "contenido[contenido == \"\"] = \"0\"\n",
    "\n",
    "for elemento in contenido:\n",
    "    activo = {}\n",
    "    activo[\"Nombre\"] = elemento[0]\n",
    "    activo[\"Valores\"] = elemento[mascara_indices_valor].astype(np.float)\n",
    "    activo[\"Cupones\"] = elemento[mascara_indices_cupon].astype(np.float)\n",
    "    activo[\"Nominales\"] = elemento[mascara_indices_nominal].astype(np.float)\n",
    "    activos.append(activo)\n"
   ]
  },
  {
   "cell_type": "code",
   "execution_count": 27,
   "metadata": {},
   "outputs": [],
   "source": [
    "def calcular_inflacion_reversa(inflacion):\n",
    "    inflacion_numerica = inflacion /100 + 1 # Esto no se podia hacer tan facil con listas!!!!\n",
    "    inflacion_acumulada_reversa = np.flip(np.flip(inflacion_numerica).cumprod())\n",
    "    return inflacion_acumulada_reversa"
   ]
  },
  {
   "cell_type": "code",
   "execution_count": 28,
   "metadata": {},
   "outputs": [],
   "source": [
    "# Ahora ponemos todo en una funcion:\n",
    "\n",
    "def calcular_ganancia_total_activo (activo,inflacion):\n",
    "    inflacion_reversa= calcular_inflacion_reversa(inflacion)\n",
    "\n",
    "    activo[\"Nominales_totales\"] = activo[\"Nominales\"].cumsum()\n",
    "    activo[\"Beneficio_mes_a_mes\"] = activo[\"Nominales_totales\"] * activo[\"Cupones\"]\n",
    "    activo[\"Beneficio_mes_a_mes_valuado_hoy\"] = activo[\"Beneficio_mes_a_mes\"] * inflacion_reversa\n",
    "    activo[\"Beneficio_valuado_hoy_total\"] = activo[\"Beneficio_mes_a_mes_valuado_hoy\"].sum()\n",
    "\n",
    "    activo[\"Nominales_liquidado\"] = activo[\"Nominales\"]\n",
    "    activo[\"Nominales_liquidado\"][-1] = activo[\"Nominales_liquidado\"][-1] + - activo[\"Nominales\"].sum()\n",
    "    activo[\"CambioValor_mes_a_mes_valudado_hoy\"] = - activo[\"Nominales_liquidado\"]*activo[\"Valores\"]*inflacion_reversa # El menos es porque un nominal positivo es comprar pero es un gasto.\n",
    "    activo[\"CambioValor_valuado_hoy\"] = activo[\"CambioValor_mes_a_mes_valudado_hoy\"].sum()\n",
    "\n",
    "    return activo[\"CambioValor_valuado_hoy\"] + activo[\"Beneficio_valuado_hoy_total\"]\n"
   ]
  },
  {
   "cell_type": "code",
   "execution_count": 29,
   "metadata": {},
   "outputs": [
    {
     "name": "stdout",
     "output_type": "stream",
     "text": [
      "El activo ETH reporto una ganancia de $-351.6468347826449.\n",
      "El activo GOLD reporto una ganancia de $196.36241294312276.\n",
      "El activo Al29 reporto una ganancia de $5718.246539360956.\n"
     ]
    }
   ],
   "source": [
    "for activo in activos:\n",
    "    print (f\"El activo {activo['Nombre']} reporto una ganancia de ${calcular_ganancia_total_activo(activo,inflacion)}.\")"
   ]
  }
 ],
 "metadata": {
  "interpreter": {
   "hash": "a7889eb58562ee9ffdda09723566893bd6ace7942a15cdee2d0c85a6ab5acc75"
  },
  "kernelspec": {
   "display_name": "Python 3 (ipykernel)",
   "language": "python",
   "name": "python3"
  },
  "language_info": {
   "codemirror_mode": {
    "name": "ipython",
    "version": 3
   },
   "file_extension": ".py",
   "mimetype": "text/x-python",
   "name": "python",
   "nbconvert_exporter": "python",
   "pygments_lexer": "ipython3",
   "version": "3.7.3"
  }
 },
 "nbformat": 4,
 "nbformat_minor": 4
}
