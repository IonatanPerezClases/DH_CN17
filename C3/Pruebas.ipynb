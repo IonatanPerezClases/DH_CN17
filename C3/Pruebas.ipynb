{
 "cells": [
  {
   "cell_type": "code",
   "execution_count": 1,
   "id": "65f7c311-6d41-40b5-afd9-7e1b6ec9993c",
   "metadata": {},
   "outputs": [],
   "source": [
    "import numpy as np"
   ]
  },
  {
   "cell_type": "code",
   "execution_count": 11,
   "id": "b19d2dc1-3ff4-49fe-84ed-673899618cbe",
   "metadata": {},
   "outputs": [],
   "source": [
    "a = np.array([[1,2],[9,10]])\n",
    "b = 3\n",
    "c = np.array([3,5])"
   ]
  },
  {
   "cell_type": "code",
   "execution_count": 12,
   "id": "d49d442b-5521-4739-a52a-7a4899b71b24",
   "metadata": {},
   "outputs": [
    {
     "data": {
      "text/plain": [
       "array([[ 4,  7],\n",
       "       [12, 15]])"
      ]
     },
     "execution_count": 12,
     "metadata": {},
     "output_type": "execute_result"
    }
   ],
   "source": [
    "a + c"
   ]
  }
 ],
 "metadata": {
  "kernelspec": {
   "display_name": "Python 3 (ipykernel)",
   "language": "python",
   "name": "python3"
  },
  "language_info": {
   "codemirror_mode": {
    "name": "ipython",
    "version": 3
   },
   "file_extension": ".py",
   "mimetype": "text/x-python",
   "name": "python",
   "nbconvert_exporter": "python",
   "pygments_lexer": "ipython3",
   "version": "3.7.3"
  }
 },
 "nbformat": 4,
 "nbformat_minor": 5
}
