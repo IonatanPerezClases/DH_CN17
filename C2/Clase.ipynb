{
 "cells": [
  {
   "cell_type": "markdown",
   "metadata": {},
   "source": [
    "# ¿Que vamos a hacer hoy?\n",
    "\n",
    "La idea de la clase va a ser que sirva como complemento de la presentación y de las prácticas que es el material que tienen para ir trabajando en sus casas.\n",
    "\n",
    "## Repaso conceptual\n",
    "\n",
    "1) Revisar para que sirve y que tengamos funcionando Jupyter\n",
    "2) Repasar tipos de datos (énfasis en los diccionarios)\n",
    "3) Repasar la idea de funciones, inputs y outputs\n",
    "4) Scope de variables\n",
    "5) Como usar cosas que hicieron otros\n",
    "6) Manejo de errores\n",
    "7) Condiciones lógicas\n",
    "\n",
    "## Práctica\n",
    "\n",
    "La idea es que pongan a prueba lo que revisamos en la parte teórica.\n",
    "\n",
    "### Novedades\n",
    "\n",
    "- Texto con formato\n",
    "- Cambiar nombre a librerías y funciones\n",
    "- Importar todo"
   ]
  },
  {
   "cell_type": "markdown",
   "metadata": {},
   "source": [
    "# Ejemplos para usar en clase\n",
    "\n",
    "## 1 - Jupyter y envs\n",
    "\n",
    "- Mencionar que es una libreria y cual es el sentido de un env\n"
   ]
  },
  {
   "cell_type": "markdown",
   "metadata": {},
   "source": [
    "## 2 - Tipos de datos"
   ]
  },
  {
   "cell_type": "code",
   "execution_count": 1,
   "metadata": {},
   "outputs": [
    {
     "name": "stdout",
     "output_type": "stream",
     "text": [
      "1\n",
      "<class 'int'>\n",
      "1.0\n",
      "<class 'float'>\n",
      "Hola mundo.\n",
      "<class 'str'>\n",
      "HOLA MUNDO.\n",
      "Hola Mundo.\n",
      "['Hola', 'mundo.']\n",
      "[1, 3, 5, 8.45, 'a', 'planta']\n",
      "1\n",
      "3\n",
      "3\n",
      "unodos\n",
      "unounouno\n",
      "['uno', 'dos', [1, 2]]\n",
      "36\n",
      "{'nombre': 'Ionatan', 'apellido': 'Perez', 'edad': 36, 'ciudad': 'BsAs'}\n",
      "dict_keys(['nombre', 'apellido', 'edad', 'ciudad'])\n",
      "dict_values(['Ionatan', 'Perez', 36, 'BsAs'])\n"
     ]
    }
   ],
   "source": [
    "# Numeros enteros (int)\n",
    "\n",
    "a = 1\n",
    "\n",
    "print (a)\n",
    "print (type(a))\n",
    "\n",
    "# Numeros con decimal (float)\n",
    "\n",
    "a = 1.0\n",
    "\n",
    "print (a)\n",
    "print (type(a))\n",
    "\n",
    "# Textos (son cadenas de caracteres)\n",
    "\n",
    "a = \"Hola mundo.\"\n",
    "\n",
    "print (a)\n",
    "print (type(a))\n",
    "\n",
    "# El tipo de datos str tiene metodos propios y caracteristicas de las listas (que vamos a ver a continuación)\n",
    "\n",
    "print (a.upper())\n",
    "print (a.title())\n",
    "print (a.split(\" \"))\n",
    "\n",
    "# Listas\n",
    "\n",
    "a = [1,3,5,8.45,\"a\",\"planta\"]\n",
    "\n",
    "print (a)\n",
    "\n",
    "# Podemos buscar elementos por el indice (recordar que en python se empieza a contar en cero)\n",
    "\n",
    "print (a[0])\n",
    "len(a)\n",
    "#a[6]\n",
    "a[5]\n",
    "a[len(a)-1]\n",
    "a[2:4] # Notar que esto va del 2 al 3\n",
    "a[-1]\n",
    "type(a[-3])\n",
    "\n",
    "# Operaciones basicas\n",
    "\n",
    "a = 1\n",
    "b = 2\n",
    "\n",
    "print (a + b)\n",
    "print (a*3)\n",
    "\n",
    "a = \"uno\"\n",
    "b = \"dos\"\n",
    "\n",
    "print (a+b)\n",
    "print (a*3)\n",
    "\n",
    "a = [\"uno\", \"dos\"]\n",
    "b = [1, 2]\n",
    "a.append(b)\n",
    "print (a)\n",
    "\n",
    "# Textos como listas\n",
    "a = \"Hola mundo.\"\n",
    "\n",
    "a[1]\n",
    "a[-6:-1]\n",
    "\n",
    "# tuplas\n",
    "\n",
    "a = [\"uno\", \"dos\", 3]\n",
    "b = (\"uno\", \"dos\", 3)\n",
    "\n",
    "\n",
    "a[1]\n",
    "b[1]\n",
    "\n",
    "a[1] = 2\n",
    "a\n",
    "\n",
    "# b[1] = 2\n",
    "\n",
    "# Diccionarios\n",
    "\n",
    "mi_info = {\"nombre\":\"Ionatan\",\n",
    "    \"apellido\":\"Perez\",\n",
    "    \"edad\":36,\n",
    "    }\n",
    "\n",
    "print (mi_info[\"edad\"])\n",
    "mi_info[\"ciudad\"]=\"BsAs\"\n",
    "print (mi_info)\n",
    "print (mi_info.keys())\n",
    "print (mi_info.values())\n"
   ]
  },
  {
   "cell_type": "markdown",
   "metadata": {},
   "source": [
    "### Ojo con este problema!"
   ]
  },
  {
   "cell_type": "code",
   "execution_count": 4,
   "metadata": {},
   "outputs": [
    {
     "name": "stdout",
     "output_type": "stream",
     "text": [
      "['uno', 2, 3]\n"
     ]
    }
   ],
   "source": [
    "# Esta celda la escribimos primero y si la ejecutamos no anda pero si la ejecutamos despues anda\n",
    "\n",
    "print (nombre)\n",
    "\n",
    "# Salvo que resetemos el kernel y ejecutemos de nuevo.\n"
   ]
  },
  {
   "cell_type": "code",
   "execution_count": null,
   "metadata": {},
   "outputs": [],
   "source": [
    "# Segunda celda\n",
    "\n",
    "nombre = \"Ionatan\""
   ]
  },
  {
   "cell_type": "markdown",
   "metadata": {},
   "source": [
    "### Vamos a pensar un problema \n",
    "\n",
    "Imaginemos que tenemos esta base de datos\n",
    "\n",
    "![Imagen1.png](./Imagen1.png)\n",
    "\n",
    "y queremos generar el encabezado de un mail a cada usuario de nuestro servicio. ¿Cómo lo haríamos? "
   ]
  },
  {
   "cell_type": "code",
   "execution_count": 36,
   "metadata": {},
   "outputs": [],
   "source": [
    "# Vamos a suponer que ya tenemos pasado los datos a python de alguna manera\n",
    "\n",
    "usuarios = [\n",
    "    {\"Nombre\":\"Julian\", \"Apellido\":\"Menendez\", \"Cargo\":\"Encargado\"},\n",
    "    {\"Titulo\":\"Sra\", \"Nombre\":\"Maria\", \"Segundo\": \"Pilar\", \"Apellido\":\"Fernandez\"},\n",
    "    {\"Nombre\":\"Esteban\", \"Apellido\":\"Domenec\"},\n",
    "    {\"Nombre\":\"Ricardo\", \"Segundo\": \"Martin\", \"Apellido\":\"Cabrera\", \"Cargo\":\"Repositor\"},\n",
    "    #{\"Titulo\":\"Sr\", \"Nombre\":\"Pepe\"},\n",
    "    {\"Titulo\":\"Sr\", \"Nombre\":\"Damian\", \"Apellido\":\"Perez\"}\n",
    "]"
   ]
  },
  {
   "cell_type": "code",
   "execution_count": null,
   "metadata": {},
   "outputs": [],
   "source": [
    "# Opcion 1\n",
    "\n",
    "print (\"Estimado/a Julian Menendez\")\n",
    "print (\"Estimado/a Sra Maria Pilar Fernandez\")\n",
    "\n",
    "#...\n",
    "\n",
    "# Sirve solo si tenemos pocos usuarios y no estamos automatizando nada."
   ]
  },
  {
   "cell_type": "code",
   "execution_count": 8,
   "metadata": {},
   "outputs": [],
   "source": [
    "# Opcion 2\n",
    "\n",
    "def generar_encabezado(nombre,apellido,**otrainfo): # Nos aseguramos tener al menos el nombre y el apellido.\n",
    "    texto = \"Estimado/a \" \n",
    "    if \"Titulo\" in otrainfo:\n",
    "        texto = texto + otrainfo[\"Titulo\"] + \" \"\n",
    "    texto = texto + nombre +  \" \"\n",
    "    if \"Segundo\" in otrainfo: \n",
    "        texto = texto + otrainfo[\"Segundo\"] + \" \"\n",
    "    texto = texto + apellido\n",
    "    \n",
    "    return texto\n"
   ]
  },
  {
   "cell_type": "code",
   "execution_count": 11,
   "metadata": {},
   "outputs": [
    {
     "name": "stdout",
     "output_type": "stream",
     "text": [
      "Estimado/a Julian Menendez\n",
      "Estimado/a Sra Maria Pilar Fernandez\n",
      "Estimado/a Esteban Domenec\n",
      "Estimado/a Ricardo Martin Cabrera\n",
      "Estimado/a Sr Damian Perez\n"
     ]
    }
   ],
   "source": [
    "for user in usuarios:\n",
    "    encabezado = generar_encabezado(user[\"Nombre\"],user[\"Apellido\"],**user)\n",
    "    print (encabezado)"
   ]
  },
  {
   "cell_type": "markdown",
   "metadata": {},
   "source": [
    "## Scope"
   ]
  },
  {
   "cell_type": "code",
   "execution_count": 15,
   "metadata": {},
   "outputs": [
    {
     "name": "stdout",
     "output_type": "stream",
     "text": [
      "Estimado/a Julian Menendez\n"
     ]
    },
    {
     "ename": "NameError",
     "evalue": "name 'texto' is not defined",
     "output_type": "error",
     "traceback": [
      "\u001b[1;31m---------------------------------------------------------------------------\u001b[0m",
      "\u001b[1;31mNameError\u001b[0m                                 Traceback (most recent call last)",
      "\u001b[1;32m<ipython-input-15-57e044d0b784>\u001b[0m in \u001b[0;36m<module>\u001b[1;34m\u001b[0m\n\u001b[0;32m      2\u001b[0m     \u001b[0mencabezado\u001b[0m \u001b[1;33m=\u001b[0m \u001b[0mgenerar_encabezado\u001b[0m\u001b[1;33m(\u001b[0m\u001b[0muser\u001b[0m\u001b[1;33m[\u001b[0m\u001b[1;34m\"Nombre\"\u001b[0m\u001b[1;33m]\u001b[0m\u001b[1;33m,\u001b[0m\u001b[0muser\u001b[0m\u001b[1;33m[\u001b[0m\u001b[1;34m\"Apellido\"\u001b[0m\u001b[1;33m]\u001b[0m\u001b[1;33m,\u001b[0m\u001b[1;33m**\u001b[0m\u001b[0muser\u001b[0m\u001b[1;33m)\u001b[0m\u001b[1;33m\u001b[0m\u001b[1;33m\u001b[0m\u001b[0m\n\u001b[0;32m      3\u001b[0m     \u001b[0mprint\u001b[0m \u001b[1;33m(\u001b[0m\u001b[0mencabezado\u001b[0m\u001b[1;33m)\u001b[0m\u001b[1;33m\u001b[0m\u001b[1;33m\u001b[0m\u001b[0m\n\u001b[1;32m----> 4\u001b[1;33m     \u001b[0mprint\u001b[0m \u001b[1;33m(\u001b[0m\u001b[0mtexto\u001b[0m\u001b[1;33m)\u001b[0m\u001b[1;33m\u001b[0m\u001b[1;33m\u001b[0m\u001b[0m\n\u001b[0m",
      "\u001b[1;31mNameError\u001b[0m: name 'texto' is not defined"
     ]
    }
   ],
   "source": [
    "for user in usuarios:\n",
    "    encabezado = generar_encabezado(user[\"Nombre\"],user[\"Apellido\"],**user)\n",
    "    print (encabezado)\n",
    "    print (texto)"
   ]
  },
  {
   "cell_type": "markdown",
   "metadata": {},
   "source": [
    "## Vamos a crear una clase que haga lo mismo\n"
   ]
  },
  {
   "cell_type": "code",
   "execution_count": 31,
   "metadata": {},
   "outputs": [],
   "source": [
    "class Usuario:\n",
    "\n",
    "    def __init__ (self,**userinfo):\n",
    "        if not \"Nombre\" in userinfo.keys():\n",
    "            raise AssertionError (\"La información del usuario debe incluir un campo 'Nombre'\")\n",
    "        if not \"Apellido\" in userinfo.keys():\n",
    "            raise AssertionError (\"La información del usuario debe incluir un campo 'Apellido'\")\n",
    "        self.userinfo = userinfo\n",
    "    \n",
    "    def nombre_corto(self):\n",
    "        return self.userinfo[\"Nombre\"] + \" \" + self.userinfo[\"Apellido\"]\n",
    "\n",
    "    def nombre_completo(self):\n",
    "        if \"Segundo\" in self.userinfo.keys():\n",
    "            return self.userinfo[\"Nombre\"] + \" \" + self.userinfo[\"Segundo\"] + \" \" + self.userinfo[\"Apellido\"]\n",
    "        else:\n",
    "            return self.nombre_corto()\n",
    "    \n",
    "    def nombre_formal(self, forzar=True):\n",
    "        if \"Titulo\" in self.userinfo.keys():\n",
    "            return self.userinfo[\"Titulo\"] + \" \" + self.nombre_completo()\n",
    "        else:\n",
    "            if forzar:\n",
    "                return \"Sr/a.\" + \" \" + self.nombre_completo()\n",
    "            else:\n",
    "                return self.nombre_completo()\n",
    "\n",
    "    def generar_encabezado(self, forzar=False):\n",
    "        return \"Estimado/a \" + self.nombre_formal(forzar=forzar)\n",
    "            "
   ]
  },
  {
   "cell_type": "code",
   "execution_count": 38,
   "metadata": {},
   "outputs": [
    {
     "name": "stdout",
     "output_type": "stream",
     "text": [
      "Julian Menendez\n",
      "Maria Fernandez\n",
      "Esteban Domenec\n",
      "Ricardo Cabrera\n",
      "Damian Perez\n",
      "Estimado/a Julian Menendez\n",
      "Estimado/a Sra Maria Pilar Fernandez\n",
      "Estimado/a Esteban Domenec\n",
      "Estimado/a Ricardo Martin Cabrera\n",
      "Estimado/a Sr Damian Perez\n"
     ]
    },
    {
     "ename": "TypeError",
     "evalue": "generar_encabezado() got an unexpected keyword argument 'forzar'",
     "output_type": "error",
     "traceback": [
      "\u001b[1;31m---------------------------------------------------------------------------\u001b[0m",
      "\u001b[1;31mTypeError\u001b[0m                                 Traceback (most recent call last)",
      "\u001b[1;32m<ipython-input-38-3a3cd7dfb7aa>\u001b[0m in \u001b[0;36m<module>\u001b[1;34m\u001b[0m\n\u001b[0;32m     10\u001b[0m \u001b[1;33m\u001b[0m\u001b[0m\n\u001b[0;32m     11\u001b[0m \u001b[1;32mfor\u001b[0m \u001b[0muser\u001b[0m \u001b[1;32min\u001b[0m \u001b[0mlista_usuarios\u001b[0m\u001b[1;33m:\u001b[0m\u001b[1;33m\u001b[0m\u001b[1;33m\u001b[0m\u001b[0m\n\u001b[1;32m---> 12\u001b[1;33m     \u001b[0mprint\u001b[0m \u001b[1;33m(\u001b[0m\u001b[0muser\u001b[0m\u001b[1;33m.\u001b[0m\u001b[0mgenerar_encabezado\u001b[0m\u001b[1;33m(\u001b[0m\u001b[0mforzar\u001b[0m\u001b[1;33m=\u001b[0m\u001b[1;32mTrue\u001b[0m\u001b[1;33m)\u001b[0m\u001b[1;33m)\u001b[0m\u001b[1;33m\u001b[0m\u001b[1;33m\u001b[0m\u001b[0m\n\u001b[0m",
      "\u001b[1;31mTypeError\u001b[0m: generar_encabezado() got an unexpected keyword argument 'forzar'"
     ]
    }
   ],
   "source": [
    "lista_usuarios = []\n",
    "for usuarioinfo in usuarios:\n",
    "    lista_usuarios.append(Usuario(**usuarioinfo)) # Notas que podemos poner mismo nombre\n",
    "\n",
    "for user in lista_usuarios:\n",
    "    print (user.nombre_corto())\n",
    "\n",
    "for user in lista_usuarios:\n",
    "    print (user.generar_encabezado())\n",
    "\n",
    "for user in lista_usuarios:\n",
    "    print (user.generar_encabezado(forzar=True))"
   ]
  }
 ],
 "metadata": {
  "interpreter": {
   "hash": "a7889eb58562ee9ffdda09723566893bd6ace7942a15cdee2d0c85a6ab5acc75"
  },
  "kernelspec": {
   "display_name": "Python 3.8.12 64-bit ('dhdsblend2021': conda)",
   "language": "python",
   "name": "python3"
  },
  "language_info": {
   "codemirror_mode": {
    "name": "ipython",
    "version": 3
   },
   "file_extension": ".py",
   "mimetype": "text/x-python",
   "name": "python",
   "nbconvert_exporter": "python",
   "pygments_lexer": "ipython3",
   "version": "3.8.12"
  },
  "orig_nbformat": 4
 },
 "nbformat": 4,
 "nbformat_minor": 2
}
