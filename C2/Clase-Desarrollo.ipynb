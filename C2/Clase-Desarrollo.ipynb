{
 "cells": [
  {
   "cell_type": "code",
   "execution_count": null,
   "id": "029701d9",
   "metadata": {},
   "outputs": [],
   "source": [
    "print (\"Hola mundo.\")"
   ]
  },
  {
   "cell_type": "markdown",
   "id": "9efb3dec",
   "metadata": {},
   "source": [
    "# ¿Que vamos a hacer hoy?\n",
    "\n",
    "La idea de la clase va a ser que sirva como complemento de la presentación y de las prácticas que es el material que tienen para ir trabajando en sus casas.\n",
    "\n",
    "## Repaso conceptual\n",
    "\n",
    "1) Revisar para que sirve y que tengamos funcionando Jupyter\n",
    "\n",
    "2) Repasar tipos de datos (énfasis en los diccionarios)\n",
    "\n",
    "3) Repasar la idea de funciones, inputs y outputs\n",
    "\n",
    "4) Scope de variables\n",
    "\n",
    "5) Como usar cosas que hicieron otros\n",
    "\n",
    "6) Manejo de errores\n",
    "\n",
    "7) Condiciones lógicas\n",
    "\n",
    "## Práctica\n",
    "\n",
    "La idea es que pongan a prueba lo que revisamos en la parte teórica.\n",
    "\n",
    "### Novedades\n",
    "\n",
    "- Texto con formato\n",
    "- Cambiar nombre a librerías y funciones\n",
    "- Importar todo"
   ]
  },
  {
   "cell_type": "markdown",
   "id": "8ff73602",
   "metadata": {},
   "source": [
    "# Ejemplos para usar en clase\n",
    "\n",
    "## 1 - Jupyter y envs\n",
    "\n",
    "- Mencionar que es una libreria y cual es el sentido de un env"
   ]
  },
  {
   "cell_type": "code",
   "execution_count": 19,
   "id": "e43ca569",
   "metadata": {},
   "outputs": [
    {
     "data": {
      "text/plain": [
       "['Hola', 'mundo.']"
      ]
     },
     "execution_count": 19,
     "metadata": {},
     "output_type": "execute_result"
    }
   ],
   "source": [
    "a = 1\n",
    "\n",
    "a\n",
    "type(a)\n",
    "\n",
    "a = 1.0\n",
    "\n",
    "type(a)\n",
    "\n",
    "a = \"Hola mundo.\"\n",
    "\n",
    "type(a)\n",
    "\n",
    "a.split(\" \")"
   ]
  },
  {
   "cell_type": "code",
   "execution_count": 21,
   "id": "36ee72a9",
   "metadata": {},
   "outputs": [
    {
     "ename": "TypeError",
     "evalue": "'str' object does not support item assignment",
     "output_type": "error",
     "traceback": [
      "\u001b[1;31m------------------------------------------------------------------\u001b[0m",
      "\u001b[1;31mTypeError\u001b[0m                        Traceback (most recent call last)",
      "\u001b[1;32m<ipython-input-21-a3e9f1c770a6>\u001b[0m in \u001b[0;36m<module>\u001b[1;34m\u001b[0m\n\u001b[0;32m      2\u001b[0m \u001b[1;33m\u001b[0m\u001b[0m\n\u001b[0;32m      3\u001b[0m \u001b[1;33m\u001b[0m\u001b[0m\n\u001b[1;32m----> 4\u001b[1;33m \u001b[0ma\u001b[0m\u001b[1;33m[\u001b[0m\u001b[1;36m1\u001b[0m\u001b[1;33m]\u001b[0m \u001b[1;33m=\u001b[0m \u001b[1;34m\"N\"\u001b[0m\u001b[1;33m\u001b[0m\u001b[1;33m\u001b[0m\u001b[0m\n\u001b[0m\u001b[0;32m      5\u001b[0m \u001b[1;33m\u001b[0m\u001b[0m\n",
      "\u001b[1;31mTypeError\u001b[0m: 'str' object does not support item assignment"
     ]
    }
   ],
   "source": [
    "a = \"uno\"\n",
    "\n",
    "\n",
    "a[1] = \"N\"\n",
    "\n"
   ]
  },
  {
   "cell_type": "code",
   "execution_count": 26,
   "id": "820a5b8f",
   "metadata": {},
   "outputs": [
    {
     "ename": "TypeError",
     "evalue": "'tuple' object does not support item assignment",
     "output_type": "error",
     "traceback": [
      "\u001b[1;31m------------------------------------------------------------------\u001b[0m",
      "\u001b[1;31mTypeError\u001b[0m                        Traceback (most recent call last)",
      "\u001b[1;32m<ipython-input-26-a48f27554984>\u001b[0m in \u001b[0;36m<module>\u001b[1;34m\u001b[0m\n\u001b[0;32m      1\u001b[0m \u001b[0mb\u001b[0m \u001b[1;33m=\u001b[0m \u001b[1;33m(\u001b[0m\u001b[1;34m\"u\"\u001b[0m\u001b[1;33m,\u001b[0m\u001b[1;34m\"n\"\u001b[0m\u001b[1;33m,\u001b[0m\u001b[1;34m\"o\"\u001b[0m\u001b[1;33m)\u001b[0m\u001b[1;33m\u001b[0m\u001b[1;33m\u001b[0m\u001b[0m\n\u001b[0;32m      2\u001b[0m \u001b[1;33m\u001b[0m\u001b[0m\n\u001b[1;32m----> 3\u001b[1;33m \u001b[0mb\u001b[0m\u001b[1;33m[\u001b[0m\u001b[1;36m2\u001b[0m\u001b[1;33m]\u001b[0m \u001b[1;33m=\u001b[0m \u001b[1;34m\"O\"\u001b[0m\u001b[1;33m\u001b[0m\u001b[1;33m\u001b[0m\u001b[0m\n\u001b[0m",
      "\u001b[1;31mTypeError\u001b[0m: 'tuple' object does not support item assignment"
     ]
    }
   ],
   "source": [
    "b = (\"u\",\"n\",\"o\")\n",
    "\n",
    "b[2] = \"O\""
   ]
  },
  {
   "cell_type": "code",
   "execution_count": 34,
   "id": "b5b99fe6",
   "metadata": {},
   "outputs": [
    {
     "ename": "AttributeError",
     "evalue": "'dict' object has no attribute 'append'",
     "output_type": "error",
     "traceback": [
      "\u001b[1;31m------------------------------------------------------------------\u001b[0m",
      "\u001b[1;31mAttributeError\u001b[0m                   Traceback (most recent call last)",
      "\u001b[1;32m<ipython-input-34-4354b8b96ab7>\u001b[0m in \u001b[0;36m<module>\u001b[1;34m\u001b[0m\n\u001b[0;32m      6\u001b[0m \u001b[0mmi_info\u001b[0m\u001b[1;33m[\u001b[0m\u001b[1;34m\"ciudad\"\u001b[0m\u001b[1;33m]\u001b[0m \u001b[1;33m=\u001b[0m \u001b[1;34m\"BsAs\"\u001b[0m\u001b[1;33m\u001b[0m\u001b[1;33m\u001b[0m\u001b[0m\n\u001b[0;32m      7\u001b[0m \u001b[1;33m\u001b[0m\u001b[0m\n\u001b[1;32m----> 8\u001b[1;33m \u001b[0mmi_info\u001b[0m\u001b[1;33m.\u001b[0m\u001b[0mappend\u001b[0m\u001b[1;33m(\u001b[0m\u001b[1;34m\"pais\"\u001b[0m\u001b[1;33m)\u001b[0m\u001b[1;33m\u001b[0m\u001b[1;33m\u001b[0m\u001b[0m\n\u001b[0m",
      "\u001b[1;31mAttributeError\u001b[0m: 'dict' object has no attribute 'append'"
     ]
    }
   ],
   "source": [
    "mi_info = {\"nombre\":\"Ionatan\",\n",
    "    \"apellido\":\"Perez\",\n",
    "    \"edad\":36,\n",
    "    }\n",
    "\n",
    "mi_info[\"ciudad\"] = \"BsAs\"\n",
    "\n",
    "mi_info.append(\"pais\")"
   ]
  },
  {
   "cell_type": "markdown",
   "id": "5c15947c",
   "metadata": {},
   "source": [
    "![Imagen](./Imagen1.png)"
   ]
  },
  {
   "cell_type": "code",
   "execution_count": 35,
   "id": "d7205605",
   "metadata": {},
   "outputs": [
    {
     "name": "stdout",
     "output_type": "stream",
     "text": [
      "Estimado/a Julian Menendez\n",
      "Estimado/a Sra Maria Pilar Fernandez\n"
     ]
    }
   ],
   "source": [
    "# Opcion 1\n",
    "\n",
    "print (\"Estimado/a Julian Menendez\")\n",
    "print (\"Estimado/a Sra Maria Pilar Fernandez\")\n",
    "\n",
    "#...\n",
    "\n",
    "# Sirve solo si tenemos pocos usuarios y no estamos automatizando nada."
   ]
  },
  {
   "cell_type": "code",
   "execution_count": 65,
   "id": "49a40dd1",
   "metadata": {},
   "outputs": [],
   "source": [
    "usuarios = [\n",
    "    {\"Titulo\":\"Sra\", \"Nombre\":\"Maria\", \"Segundo\": \"Pilar\", \"Apellido\":\"Fernandez\"},\n",
    "    {\"Nombre\":\"Julian\", \"Apellido\":\"Menendez\", \"Cargo\":\"Encargado\"},\n",
    "    {\"Nombre\":\"Esteban\", \"Apellido\":\"Domenec\"},\n",
    "    {\"Nombre\":\"Ricardo\", \"Segundo\": \"Martin\", \"Apellido\":\"Cabrera\", \"Cargo\":\"Repositor\"},\n",
    "    {\"Titulo\":\"Sr\", \"Nombre\":\"Pepe\"},\n",
    "    {\"Titulo\":\"Sr\", \"Nombre\":\"Damian\", \"Apellido\":\"Perez\"}\n",
    "]"
   ]
  },
  {
   "cell_type": "code",
   "execution_count": 18,
   "id": "22d5cb06",
   "metadata": {},
   "outputs": [
    {
     "name": "stdout",
     "output_type": "stream",
     "text": [
      "Estimado/a Sra Maria Pilar Fernandez\n",
      "Estimado/a Julian Menendez\n",
      "Estimado/a Esteban Domenec\n",
      "Estimado/a Ricardo Martin Cabrera\n",
      "Estimado/a Sr Damian Perez\n"
     ]
    }
   ],
   "source": [
    "for usuario in usuarios:\n",
    "    texto = \"Estimado/a \"\n",
    "    if \"Titulo\" in usuario:\n",
    "        texto += usuario[\"Titulo\"] + \" \"\n",
    "    texto += usuario[\"Nombre\"] + \" \"\n",
    "    if \"Segundo\" in usuario:\n",
    "        texto += usuario[\"Segundo\"] + \" \"\n",
    "    texto += usuario[\"Apellido\"]\n",
    "    print (texto)"
   ]
  },
  {
   "cell_type": "code",
   "execution_count": 45,
   "id": "729913a4",
   "metadata": {},
   "outputs": [],
   "source": [
    "def generar_encabezado(nombre,apellido,**otrainfo):\n",
    "    texto = \"Estimado/a \"\n",
    "    if \"Titulo\" in otrainfo:\n",
    "        texto += otrainfo[\"Titulo\"] + \" \"\n",
    "    texto += nombre + \" \"\n",
    "    if \"Segundo\" in otrainfo:\n",
    "        texto += otrainfo[\"Segundo\"] + \" \"\n",
    "    texto += apellido\n",
    "    return (texto)\n",
    "    \n",
    "    "
   ]
  },
  {
   "cell_type": "code",
   "execution_count": 46,
   "id": "324cc929",
   "metadata": {},
   "outputs": [
    {
     "name": "stdout",
     "output_type": "stream",
     "text": [
      "Estimado/a Maria Fernandez\n",
      "Estimado/a Julian Menendez\n",
      "Estimado/a Esteban Domenec\n",
      "Estimado/a Ricardo Cabrera\n",
      "Estimado/a Damian Perez\n"
     ]
    }
   ],
   "source": [
    "for usuario in usuarios:\n",
    "    print (generar_encabezado(usuario[\"Nombre\"],usuario[\"Apellido\"]))"
   ]
  },
  {
   "cell_type": "code",
   "execution_count": 48,
   "id": "a001b8b2",
   "metadata": {},
   "outputs": [],
   "source": [
    "class Usuario:\n",
    "\n",
    "    def __init__ (self,**userinfo):\n",
    "        if not \"Nombre\" in userinfo.keys():\n",
    "            raise AssertionError (\"La información del usuario debe incluir un campo 'Nombre'\")\n",
    "        if not \"Apellido\" in userinfo.keys():\n",
    "            raise AssertionError (\"La información del usuario debe incluir un campo 'Apellido'\")\n",
    "        self.userinfo = userinfo\n",
    "    \n",
    "    def nombre_corto(self):\n",
    "        return self.userinfo[\"Nombre\"] + \" \" + self.userinfo[\"Apellido\"]\n",
    "\n",
    "    def nombre_completo(self):\n",
    "        if \"Segundo\" in self.userinfo.keys():\n",
    "            return self.userinfo[\"Nombre\"] + \" \" + self.userinfo[\"Segundo\"] + \" \" + self.userinfo[\"Apellido\"]\n",
    "        else:\n",
    "            return self.nombre_corto()\n",
    "    \n",
    "    def nombre_formal(self, forzar=True):\n",
    "        if \"Titulo\" in self.userinfo.keys():\n",
    "            return self.userinfo[\"Titulo\"] + \" \" + self.nombre_completo()\n",
    "        else:\n",
    "            if forzar:\n",
    "                return \"Sr/a.\" + \" \" + self.nombre_completo()\n",
    "            else:\n",
    "                return self.nombre_completo()\n",
    "\n",
    "    def generar_encabezado(self, forzar=False):\n",
    "        return \"Estimado/a \" + self.nombre_formal(forzar=forzar)"
   ]
  },
  {
   "cell_type": "code",
   "execution_count": 66,
   "id": "b23ff02b",
   "metadata": {},
   "outputs": [],
   "source": [
    "info = usuarios[4]"
   ]
  },
  {
   "cell_type": "code",
   "execution_count": 57,
   "id": "34bb413f",
   "metadata": {},
   "outputs": [
    {
     "data": {
      "text/plain": [
       "{'Titulo': 'Sra',\n",
       " 'Nombre': 'Maria',\n",
       " 'Segundo': 'Pilar',\n",
       " 'Apellido': 'Fernandez'}"
      ]
     },
     "execution_count": 57,
     "metadata": {},
     "output_type": "execute_result"
    }
   ],
   "source": [
    "info"
   ]
  },
  {
   "cell_type": "code",
   "execution_count": 67,
   "id": "fad9e593",
   "metadata": {},
   "outputs": [
    {
     "ename": "AssertionError",
     "evalue": "La información del usuario debe incluir un campo 'Apellido'",
     "output_type": "error",
     "traceback": [
      "\u001b[1;31m------------------------------------------------------------------\u001b[0m",
      "\u001b[1;31mAssertionError\u001b[0m                   Traceback (most recent call last)",
      "\u001b[1;32m<ipython-input-67-cdf602f6ae12>\u001b[0m in \u001b[0;36m<module>\u001b[1;34m\u001b[0m\n\u001b[1;32m----> 1\u001b[1;33m \u001b[0musuario_uno\u001b[0m \u001b[1;33m=\u001b[0m \u001b[0mUsuario\u001b[0m\u001b[1;33m(\u001b[0m\u001b[1;33m**\u001b[0m\u001b[0minfo\u001b[0m\u001b[1;33m)\u001b[0m\u001b[1;33m\u001b[0m\u001b[1;33m\u001b[0m\u001b[0m\n\u001b[0m",
      "\u001b[1;32m<ipython-input-48-3d9fd5890f98>\u001b[0m in \u001b[0;36m__init__\u001b[1;34m(self, **userinfo)\u001b[0m\n\u001b[0;32m      5\u001b[0m             \u001b[1;32mraise\u001b[0m \u001b[0mAssertionError\u001b[0m \u001b[1;33m(\u001b[0m\u001b[1;34m\"La información del usuario debe incluir un campo 'Nombre'\"\u001b[0m\u001b[1;33m)\u001b[0m\u001b[1;33m\u001b[0m\u001b[1;33m\u001b[0m\u001b[0m\n\u001b[0;32m      6\u001b[0m         \u001b[1;32mif\u001b[0m \u001b[1;32mnot\u001b[0m \u001b[1;34m\"Apellido\"\u001b[0m \u001b[1;32min\u001b[0m \u001b[0muserinfo\u001b[0m\u001b[1;33m.\u001b[0m\u001b[0mkeys\u001b[0m\u001b[1;33m(\u001b[0m\u001b[1;33m)\u001b[0m\u001b[1;33m:\u001b[0m\u001b[1;33m\u001b[0m\u001b[1;33m\u001b[0m\u001b[0m\n\u001b[1;32m----> 7\u001b[1;33m             \u001b[1;32mraise\u001b[0m \u001b[0mAssertionError\u001b[0m \u001b[1;33m(\u001b[0m\u001b[1;34m\"La información del usuario debe incluir un campo 'Apellido'\"\u001b[0m\u001b[1;33m)\u001b[0m\u001b[1;33m\u001b[0m\u001b[1;33m\u001b[0m\u001b[0m\n\u001b[0m\u001b[0;32m      8\u001b[0m         \u001b[0mself\u001b[0m\u001b[1;33m.\u001b[0m\u001b[0muserinfo\u001b[0m \u001b[1;33m=\u001b[0m \u001b[0muserinfo\u001b[0m\u001b[1;33m\u001b[0m\u001b[1;33m\u001b[0m\u001b[0m\n\u001b[0;32m      9\u001b[0m \u001b[1;33m\u001b[0m\u001b[0m\n",
      "\u001b[1;31mAssertionError\u001b[0m: La información del usuario debe incluir un campo 'Apellido'"
     ]
    }
   ],
   "source": [
    "usuario_uno = Usuario(**info)"
   ]
  },
  {
   "cell_type": "code",
   "execution_count": 63,
   "id": "9616e02e",
   "metadata": {},
   "outputs": [
    {
     "data": {
      "text/plain": [
       "{'Titulo': 'Sra',\n",
       " 'Nombre': 'Maria',\n",
       " 'Segundo': 'Pilar',\n",
       " 'Apellido': 'Fernandez'}"
      ]
     },
     "execution_count": 63,
     "metadata": {},
     "output_type": "execute_result"
    }
   ],
   "source": [
    "usuario_uno.userinfo"
   ]
  },
  {
   "cell_type": "code",
   "execution_count": 73,
   "id": "4ea5b80d",
   "metadata": {},
   "outputs": [],
   "source": [
    "a = \"Holamundo\"\n",
    "\n",
    "def prueba():\n",
    "    a = \"Chau\"\n",
    "    print (a)"
   ]
  },
  {
   "cell_type": "code",
   "execution_count": 76,
   "id": "b48c4769",
   "metadata": {},
   "outputs": [
    {
     "name": "stdout",
     "output_type": "stream",
     "text": [
      "Chau\n",
      "Holamundo\n"
     ]
    }
   ],
   "source": [
    "prueba()\n",
    "print (a)"
   ]
  }
 ],
 "metadata": {
  "kernelspec": {
   "display_name": "Python 3 (ipykernel)",
   "language": "python",
   "name": "python3"
  },
  "language_info": {
   "codemirror_mode": {
    "name": "ipython",
    "version": 3
   },
   "file_extension": ".py",
   "mimetype": "text/x-python",
   "name": "python",
   "nbconvert_exporter": "python",
   "pygments_lexer": "ipython3",
   "version": "3.8.12"
  }
 },
 "nbformat": 4,
 "nbformat_minor": 5
}
